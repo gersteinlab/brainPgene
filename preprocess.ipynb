{
 "cells": [
  {
   "cell_type": "code",
   "execution_count": 1,
   "id": "554e34f7-8474-43f6-b857-8d24670ce6f9",
   "metadata": {},
   "outputs": [],
   "source": [
    "import pyranges as pr"
   ]
  },
  {
   "cell_type": "markdown",
   "id": "4996e20b-942c-4dd1-a3f9-e493c4e3029c",
   "metadata": {
    "tags": []
   },
   "source": [
    "# Human (GRCh37.p13, GENCODE Release 39)"
   ]
  },
  {
   "cell_type": "code",
   "execution_count": 46,
   "id": "852d00f8-2d45-40dd-aa99-e206264e1253",
   "metadata": {},
   "outputs": [],
   "source": [
    "GRCh37 = pr.read_gtf('GTF/gencode.v39lift37.annotation.gtf')"
   ]
  },
  {
   "cell_type": "markdown",
   "id": "1239f2a5-80b3-444b-8f97-01f9dee5de1b",
   "metadata": {
    "tags": []
   },
   "source": [
    "## Human Pseudogene\n",
    "14,256 pgenes (48,220 exons) -> 8,424 pgenes (34,420 exons) after removing exons overlapping with protein coding genes and lncRNAs -> 4,279 pgenes (14,207 exons) after selecting exons within unique genomic regions -> 4,067 pgenes (10, 415 exons) after removing exons shorter than 100 bp."
   ]
  },
  {
   "cell_type": "code",
   "execution_count": 47,
   "id": "8ea5e073-3660-4f12-8abc-1a943003e4f4",
   "metadata": {},
   "outputs": [],
   "source": [
    "## extract pgenes from the GTF file\n",
    "pgene_type = ['processed_pseudogene', 'transcribed_processed_pseudogene', 'transcribed_unitary_pseudogene', 'transcribed_unprocessed_pseudogene',\n",
    "              'translated_processed_pseudogene', 'translated_unprocessed_pseudogene', 'unitary_pseudogene', 'unprocessed_pseudogene']"
   ]
  },
  {
   "cell_type": "code",
   "execution_count": 48,
   "id": "e07073ef-30b9-40cc-bba0-e9685c178736",
   "metadata": {},
   "outputs": [],
   "source": [
    "pgene = GRCh37[(GRCh37.Feature == 'gene') & ([j in pgene_type for j in GRCh37.gene_type])]\n",
    "pexon = GRCh37[(GRCh37.Feature == 'exon') & ([j in pgene_type for j in GRCh37.gene_type])]\n",
    "protein_coding = GRCh37[(GRCh37.Feature == 'gene') & (GRCh37.gene_type == 'protein_coding')]\n",
    "protein_coding_exon = GRCh37[(GRCh37.Feature == 'exon') & (GRCh37.gene_type == 'protein_coding')]\n",
    "lncRNA = GRCh37[(GRCh37.Feature == 'gene') & (GRCh37.gene_type == 'lncRNA')]"
   ]
  },
  {
   "cell_type": "code",
   "execution_count": 49,
   "id": "38c72515-0602-49bb-9722-1172c7790628",
   "metadata": {},
   "outputs": [
    {
     "name": "stdout",
     "output_type": "stream",
     "text": [
      "14256 48220\n"
     ]
    }
   ],
   "source": [
    "print(len(set(pexon.gene_id)), len(pexon))"
   ]
  },
  {
   "cell_type": "code",
   "execution_count": 50,
   "id": "e25afe58-1eb4-4095-aadb-a27626b1b3b7",
   "metadata": {},
   "outputs": [],
   "source": [
    "overlap_1 = pexon.count_overlaps(protein_coding, strandedness = False, overlap_col = \"Count\")\n",
    "overlap_2 = pexon.count_overlaps(lncRNA, strandedness = False, overlap_col = \"Count\")\n",
    "pexon = pexon[(overlap_1.Count == 0) & (overlap_2.Count == 0)]"
   ]
  },
  {
   "cell_type": "code",
   "execution_count": 51,
   "id": "1ffff165-4cad-4d84-b65e-fe457567f1a0",
   "metadata": {},
   "outputs": [
    {
     "name": "stdout",
     "output_type": "stream",
     "text": [
      "8424 34420\n"
     ]
    }
   ],
   "source": [
    "print(len(set(pexon.gene_id)), len(pexon))"
   ]
  },
  {
   "cell_type": "code",
   "execution_count": 52,
   "id": "6592753d-419f-4f37-aa6e-bd443bec514a",
   "metadata": {},
   "outputs": [],
   "source": [
    "pexon.to_gtf('pgene/human/pexon_filtered_by_overlappings.gtf')"
   ]
  },
  {
   "cell_type": "code",
   "execution_count": 53,
   "id": "2b6e2383-b457-4d05-a16d-b89dd577f785",
   "metadata": {},
   "outputs": [],
   "source": [
    "! gtf2bed < pgene/human/pexon_filtered_by_overlappings.gtf > pgene/human/pexon_filtered_by_overlappings.bed"
   ]
  },
  {
   "cell_type": "code",
   "execution_count": 55,
   "id": "4190f797-77f8-4d0b-b022-2e083920e4a9",
   "metadata": {},
   "outputs": [],
   "source": [
    "! cat mappability/human/hg19.bedgraph | awk '{if($4>0.95) print $0}' | \\\n",
    "bedtools coverage -a pgene/human/pexon_filtered_by_overlappings.bed -b - | \\\n",
    "awk -F '\\t' '{if($NF==1) print $0}' | awk -F '\\t' 'NF-=4' > pgene/human/pexon_filtered_by_mappability.bed "
   ]
  },
  {
   "cell_type": "code",
   "execution_count": 56,
   "id": "19794e09-764f-4e62-8fc3-577b3ec0d024",
   "metadata": {},
   "outputs": [],
   "source": [
    "! awk '{print $1\"\\t\"$7\"\\t\"$8\"\\t\"($2+1)\"\\t\"$3\"\\t\"$5\"\\t\"$6\"\\t\"$9\"\\t\"(substr($0, index($0,$10)))}' pgene/human/pexon_filtered_by_mappability.bed > pgene/human/pexon_filtered_by_mappability.gtf\n",
    "! sed -i '' 's/zero_length_insertion.*//g' pgene/human/pexon_filtered_by_mappability.gtf"
   ]
  },
  {
   "cell_type": "code",
   "execution_count": 57,
   "id": "948ae762-4ab6-4009-81f8-2b863e1edd8b",
   "metadata": {},
   "outputs": [
    {
     "name": "stdout",
     "output_type": "stream",
     "text": [
      "4279 14207\n"
     ]
    }
   ],
   "source": [
    "pexon = pr.read_gtf('pgene/human/pexon_filtered_by_mappability.gtf')\n",
    "print(len(set(pexon.gene_id)), len(pexon))"
   ]
  },
  {
   "cell_type": "code",
   "execution_count": 58,
   "id": "33490f52-d2c9-4ae2-b2c4-e7e2fb74d548",
   "metadata": {
    "tags": []
   },
   "outputs": [
    {
     "name": "stdout",
     "output_type": "stream",
     "text": [
      "4067 10415\n"
     ]
    }
   ],
   "source": [
    "pexon = pexon[pexon.lengths() >= 100]\n",
    "print(len(set(pexon.gene_id)), len(pexon))"
   ]
  },
  {
   "cell_type": "code",
   "execution_count": 59,
   "id": "2af0fe24-95f2-4e14-9c8d-1455224a0f59",
   "metadata": {},
   "outputs": [
    {
     "data": {
      "text/html": [
       "<div>\n",
       "<style scoped>\n",
       "    .dataframe tbody tr th:only-of-type {\n",
       "        vertical-align: middle;\n",
       "    }\n",
       "\n",
       "    .dataframe tbody tr th {\n",
       "        vertical-align: top;\n",
       "    }\n",
       "\n",
       "    .dataframe thead th {\n",
       "        text-align: right;\n",
       "    }\n",
       "</style>\n",
       "<table border=\"1\" class=\"dataframe\">\n",
       "  <thead>\n",
       "    <tr style=\"text-align: right;\">\n",
       "      <th></th>\n",
       "      <th>Chromosome</th>\n",
       "      <th>Source</th>\n",
       "      <th>Feature</th>\n",
       "      <th>Start</th>\n",
       "      <th>End</th>\n",
       "      <th>Score</th>\n",
       "      <th>Strand</th>\n",
       "      <th>Frame</th>\n",
       "      <th>gene_id</th>\n",
       "      <th>gene_type</th>\n",
       "      <th>...</th>\n",
       "      <th>transcript_type</th>\n",
       "      <th>transcript_name</th>\n",
       "      <th>tag</th>\n",
       "      <th>exon_number</th>\n",
       "      <th>exon_id</th>\n",
       "      <th>remap_original_location</th>\n",
       "      <th>transcript_support_level</th>\n",
       "      <th>havana_transcript</th>\n",
       "      <th>ont</th>\n",
       "      <th>hgnc_id</th>\n",
       "    </tr>\n",
       "  </thead>\n",
       "  <tbody>\n",
       "    <tr>\n",
       "      <th>0</th>\n",
       "      <td>chr1</td>\n",
       "      <td>HAVANA</td>\n",
       "      <td>exon</td>\n",
       "      <td>995108</td>\n",
       "      <td>995226</td>\n",
       "      <td>.</td>\n",
       "      <td>+</td>\n",
       "      <td>.</td>\n",
       "      <td>ENSG00000217801.11_10</td>\n",
       "      <td>transcribed_unprocessed_pseudogene</td>\n",
       "      <td>...</td>\n",
       "      <td>processed_transcript</td>\n",
       "      <td>ENST00000427998</td>\n",
       "      <td>TAGENE</td>\n",
       "      <td>1</td>\n",
       "      <td>ENSE00003923178.1_1</td>\n",
       "      <td>chr1:+:1059729-1059846</td>\n",
       "      <td>1</td>\n",
       "      <td>OTTHUMT00000099676.1_3</td>\n",
       "      <td>NaN</td>\n",
       "      <td>NaN</td>\n",
       "    </tr>\n",
       "    <tr>\n",
       "      <th>1</th>\n",
       "      <td>chr1</td>\n",
       "      <td>HAVANA</td>\n",
       "      <td>exon</td>\n",
       "      <td>995113</td>\n",
       "      <td>995226</td>\n",
       "      <td>.</td>\n",
       "      <td>+</td>\n",
       "      <td>.</td>\n",
       "      <td>ENSG00000217801.11_10</td>\n",
       "      <td>transcribed_unprocessed_pseudogene</td>\n",
       "      <td>...</td>\n",
       "      <td>processed_transcript</td>\n",
       "      <td>ENST00000692266</td>\n",
       "      <td>TAGENE</td>\n",
       "      <td>1</td>\n",
       "      <td>ENSE00001669701.1_1</td>\n",
       "      <td>chr1:+:1059734-1059846</td>\n",
       "      <td>NaN</td>\n",
       "      <td>NaN</td>\n",
       "      <td>NaN</td>\n",
       "      <td>NaN</td>\n",
       "    </tr>\n",
       "    <tr>\n",
       "      <th>2</th>\n",
       "      <td>chr1</td>\n",
       "      <td>HAVANA</td>\n",
       "      <td>exon</td>\n",
       "      <td>995656</td>\n",
       "      <td>995773</td>\n",
       "      <td>.</td>\n",
       "      <td>+</td>\n",
       "      <td>.</td>\n",
       "      <td>ENSG00000217801.11_10</td>\n",
       "      <td>transcribed_unprocessed_pseudogene</td>\n",
       "      <td>...</td>\n",
       "      <td>processed_transcript</td>\n",
       "      <td>ENST00000394517</td>\n",
       "      <td>RNA_Seq_supported_partial</td>\n",
       "      <td>2</td>\n",
       "      <td>ENSE00003841587.1_1</td>\n",
       "      <td>chr1:+:1060277-1060393</td>\n",
       "      <td>5</td>\n",
       "      <td>OTTHUMT00000001276.2_3</td>\n",
       "      <td>NaN</td>\n",
       "      <td>NaN</td>\n",
       "    </tr>\n",
       "    <tr>\n",
       "      <th>3</th>\n",
       "      <td>chr1</td>\n",
       "      <td>HAVANA</td>\n",
       "      <td>exon</td>\n",
       "      <td>995659</td>\n",
       "      <td>995773</td>\n",
       "      <td>.</td>\n",
       "      <td>+</td>\n",
       "      <td>.</td>\n",
       "      <td>ENSG00000217801.11_10</td>\n",
       "      <td>transcribed_unprocessed_pseudogene</td>\n",
       "      <td>...</td>\n",
       "      <td>processed_transcript</td>\n",
       "      <td>ENST00000427998</td>\n",
       "      <td>TAGENE</td>\n",
       "      <td>2</td>\n",
       "      <td>ENSE00001702890.1_1</td>\n",
       "      <td>chr1:+:1060280-1060393</td>\n",
       "      <td>1</td>\n",
       "      <td>OTTHUMT00000099676.1_3</td>\n",
       "      <td>NaN</td>\n",
       "      <td>NaN</td>\n",
       "    </tr>\n",
       "    <tr>\n",
       "      <th>4</th>\n",
       "      <td>chr1</td>\n",
       "      <td>HAVANA</td>\n",
       "      <td>exon</td>\n",
       "      <td>999585</td>\n",
       "      <td>999781</td>\n",
       "      <td>.</td>\n",
       "      <td>+</td>\n",
       "      <td>.</td>\n",
       "      <td>ENSG00000217801.11_10</td>\n",
       "      <td>transcribed_unprocessed_pseudogene</td>\n",
       "      <td>...</td>\n",
       "      <td>processed_transcript</td>\n",
       "      <td>ENST00000688131</td>\n",
       "      <td>TAGENE</td>\n",
       "      <td>4</td>\n",
       "      <td>ENSE00003923512.1_1</td>\n",
       "      <td>chr1:+:1064206-1064401</td>\n",
       "      <td>NaN</td>\n",
       "      <td>NaN</td>\n",
       "      <td>NaN</td>\n",
       "      <td>NaN</td>\n",
       "    </tr>\n",
       "    <tr>\n",
       "      <th>...</th>\n",
       "      <td>...</td>\n",
       "      <td>...</td>\n",
       "      <td>...</td>\n",
       "      <td>...</td>\n",
       "      <td>...</td>\n",
       "      <td>...</td>\n",
       "      <td>...</td>\n",
       "      <td>...</td>\n",
       "      <td>...</td>\n",
       "      <td>...</td>\n",
       "      <td>...</td>\n",
       "      <td>...</td>\n",
       "      <td>...</td>\n",
       "      <td>...</td>\n",
       "      <td>...</td>\n",
       "      <td>...</td>\n",
       "      <td>...</td>\n",
       "      <td>...</td>\n",
       "      <td>...</td>\n",
       "      <td>...</td>\n",
       "      <td>...</td>\n",
       "    </tr>\n",
       "    <tr>\n",
       "      <th>8264</th>\n",
       "      <td>chrY</td>\n",
       "      <td>HAVANA</td>\n",
       "      <td>exon</td>\n",
       "      <td>23839131</td>\n",
       "      <td>23839321</td>\n",
       "      <td>.</td>\n",
       "      <td>-</td>\n",
       "      <td>.</td>\n",
       "      <td>ENSG00000229416.1_7</td>\n",
       "      <td>unprocessed_pseudogene</td>\n",
       "      <td>...</td>\n",
       "      <td>unprocessed_pseudogene</td>\n",
       "      <td>USP9YP8-201</td>\n",
       "      <td>Ensembl_canonical</td>\n",
       "      <td>3</td>\n",
       "      <td>ENSE00001774789.1_1</td>\n",
       "      <td>chrY:-:21677246-21677435</td>\n",
       "      <td>NA</td>\n",
       "      <td>OTTHUMT00000101918.1_4</td>\n",
       "      <td>PGO:0000005</td>\n",
       "      <td>HGNC:38424</td>\n",
       "    </tr>\n",
       "    <tr>\n",
       "      <th>8265</th>\n",
       "      <td>chrY</td>\n",
       "      <td>HAVANA</td>\n",
       "      <td>exon</td>\n",
       "      <td>23963725</td>\n",
       "      <td>23963902</td>\n",
       "      <td>.</td>\n",
       "      <td>-</td>\n",
       "      <td>.</td>\n",
       "      <td>ENSG00000277519.1_7</td>\n",
       "      <td>unprocessed_pseudogene</td>\n",
       "      <td>...</td>\n",
       "      <td>unprocessed_pseudogene</td>\n",
       "      <td>OFD1P16Y-201</td>\n",
       "      <td>Ensembl_canonical</td>\n",
       "      <td>2</td>\n",
       "      <td>ENSE00003745229.1_1</td>\n",
       "      <td>chrY:-:21817579-21817755</td>\n",
       "      <td>NA</td>\n",
       "      <td>OTTHUMT00000475886.1_4</td>\n",
       "      <td>PGO:0000005</td>\n",
       "      <td>HGNC:18213</td>\n",
       "    </tr>\n",
       "    <tr>\n",
       "      <th>8266</th>\n",
       "      <td>chrY</td>\n",
       "      <td>HAVANA</td>\n",
       "      <td>exon</td>\n",
       "      <td>23964224</td>\n",
       "      <td>23964365</td>\n",
       "      <td>.</td>\n",
       "      <td>-</td>\n",
       "      <td>.</td>\n",
       "      <td>ENSG00000277519.1_7</td>\n",
       "      <td>unprocessed_pseudogene</td>\n",
       "      <td>...</td>\n",
       "      <td>unprocessed_pseudogene</td>\n",
       "      <td>OFD1P16Y-201</td>\n",
       "      <td>Ensembl_canonical</td>\n",
       "      <td>1</td>\n",
       "      <td>ENSE00003732110.1_1</td>\n",
       "      <td>chrY:-:21818078-21818218</td>\n",
       "      <td>NA</td>\n",
       "      <td>OTTHUMT00000475886.1_4</td>\n",
       "      <td>PGO:0000005</td>\n",
       "      <td>HGNC:18213</td>\n",
       "    </tr>\n",
       "    <tr>\n",
       "      <th>8267</th>\n",
       "      <td>chrY</td>\n",
       "      <td>HAVANA</td>\n",
       "      <td>exon</td>\n",
       "      <td>24453706</td>\n",
       "      <td>24454098</td>\n",
       "      <td>.</td>\n",
       "      <td>-</td>\n",
       "      <td>.</td>\n",
       "      <td>ENSG00000229940.1_5</td>\n",
       "      <td>unprocessed_pseudogene</td>\n",
       "      <td>...</td>\n",
       "      <td>unprocessed_pseudogene</td>\n",
       "      <td>TSPY22P-201</td>\n",
       "      <td>Ensembl_canonical</td>\n",
       "      <td>1</td>\n",
       "      <td>ENSE00001663391.1_1</td>\n",
       "      <td>chrY:-:22307560-22307951</td>\n",
       "      <td>NA</td>\n",
       "      <td>OTTHUMT00000101928.1_4</td>\n",
       "      <td>PGO:0000005</td>\n",
       "      <td>HGNC:38522</td>\n",
       "    </tr>\n",
       "    <tr>\n",
       "      <th>8268</th>\n",
       "      <td>chrY</td>\n",
       "      <td>HAVANA</td>\n",
       "      <td>exon</td>\n",
       "      <td>28747037</td>\n",
       "      <td>28747169</td>\n",
       "      <td>.</td>\n",
       "      <td>-</td>\n",
       "      <td>.</td>\n",
       "      <td>ENSG00000237917.1_7</td>\n",
       "      <td>unprocessed_pseudogene</td>\n",
       "      <td>...</td>\n",
       "      <td>unprocessed_pseudogene</td>\n",
       "      <td>PARP4P1-201</td>\n",
       "      <td>Ensembl_canonical</td>\n",
       "      <td>12</td>\n",
       "      <td>ENSE00001744948.1_1</td>\n",
       "      <td>chrY:-:26600891-26601022</td>\n",
       "      <td>NA</td>\n",
       "      <td>OTTHUMT00000089408.1_4</td>\n",
       "      <td>PGO:0000005</td>\n",
       "      <td>HGNC:18500</td>\n",
       "    </tr>\n",
       "  </tbody>\n",
       "</table>\n",
       "<p>8269 rows × 25 columns</p>\n",
       "</div>"
      ],
      "text/plain": [
       "+--------------+------------+--------------+-----------+-----------+-------+\n",
       "| Chromosome   | Source     | Feature      | Start     | End       | +20   |\n",
       "| (category)   | (object)   | (category)   | (int32)   | (int32)   | ...   |\n",
       "|--------------+------------+--------------+-----------+-----------+-------|\n",
       "| chr1         | HAVANA     | exon         | 995108    | 995226    | ...   |\n",
       "| chr1         | HAVANA     | exon         | 995113    | 995226    | ...   |\n",
       "| chr1         | HAVANA     | exon         | 995656    | 995773    | ...   |\n",
       "| chr1         | HAVANA     | exon         | 995659    | 995773    | ...   |\n",
       "| ...          | ...        | ...          | ...       | ...       | ...   |\n",
       "| chrY         | HAVANA     | exon         | 23963725  | 23963902  | ...   |\n",
       "| chrY         | HAVANA     | exon         | 23964224  | 23964365  | ...   |\n",
       "| chrY         | HAVANA     | exon         | 24453706  | 24454098  | ...   |\n",
       "| chrY         | HAVANA     | exon         | 28747037  | 28747169  | ...   |\n",
       "+--------------+------------+--------------+-----------+-----------+-------+\n",
       "Stranded PyRanges object has 8,269 rows and 25 columns from 24 chromosomes.\n",
       "For printing, the PyRanges was sorted on Chromosome and Strand.\n",
       "20 hidden columns: Score, Strand, Frame, gene_id, gene_type, gene_name, level, ... (+ 13 more.)"
      ]
     },
     "execution_count": 59,
     "metadata": {},
     "output_type": "execute_result"
    }
   ],
   "source": [
    "pexon.drop_duplicate_positions()"
   ]
  },
  {
   "cell_type": "code",
   "execution_count": 60,
   "id": "83896e3d-90dd-4b2d-8a50-04d24f6df1ec",
   "metadata": {},
   "outputs": [],
   "source": [
    "pexon.to_gtf('pgene/human/pexon_human.gtf')"
   ]
  },
  {
   "cell_type": "code",
   "execution_count": 3,
   "id": "f14add69",
   "metadata": {},
   "outputs": [],
   "source": [
    "import pyranges as pr\n",
    "pexon = pr.read_gtf('GTF/pgene/human/pexon_human.gtf')"
   ]
  },
  {
   "cell_type": "code",
   "execution_count": 8,
   "id": "b7ffc42c",
   "metadata": {},
   "outputs": [
    {
     "data": {
      "text/plain": [
       "4067"
      ]
     },
     "execution_count": 8,
     "metadata": {},
     "output_type": "execute_result"
    }
   ],
   "source": [
    "len(set(pexon.gene_id))"
   ]
  },
  {
   "cell_type": "code",
   "execution_count": 20,
   "id": "975b5ce9",
   "metadata": {},
   "outputs": [
    {
     "data": {
      "text/plain": [
       "Counter({'transcribed_unprocessed_pseudogene': 310,\n",
       "         'processed_pseudogene': 2753,\n",
       "         'unprocessed_pseudogene': 735,\n",
       "         'unitary_pseudogene': 47,\n",
       "         'transcribed_processed_pseudogene': 116,\n",
       "         'transcribed_unitary_pseudogene': 106})"
      ]
     },
     "execution_count": 20,
     "metadata": {},
     "output_type": "execute_result"
    }
   ],
   "source": [
    "from collections import Counter\n",
    "Counter(pexon.df[['gene_id','gene_type']].drop_duplicates()['gene_type'])"
   ]
  },
  {
   "cell_type": "markdown",
   "id": "991fff8c-a3e4-4682-b24a-ee7ffb9d8206",
   "metadata": {
    "tags": []
   },
   "source": [
    "## Human Protein-coding Gene\n",
    "20,111 protein-coding genes (1,303,925 exons) -> 19,198 protein-coding genes (1,196,225 exons) after removing exons overlapping with pseudogenes and lncRNAs -> 17,880 protein-coding genes (1,094,254 exons) after selecting exons within unique genomic regions -> 17,599 protein-coding genes (720,075 exons) after removing exons shorter than 100 bp."
   ]
  },
  {
   "cell_type": "code",
   "execution_count": 71,
   "id": "b174adc5-b747-4332-ac86-fecdac5c48c1",
   "metadata": {},
   "outputs": [
    {
     "name": "stdout",
     "output_type": "stream",
     "text": [
      "20111 1303925\n"
     ]
    }
   ],
   "source": [
    "print(len(set(protein_coding_exon.gene_id)), len(protein_coding_exon))"
   ]
  },
  {
   "cell_type": "code",
   "execution_count": 72,
   "id": "000a0c54-3518-4a15-be5e-3e6b2df0984e",
   "metadata": {},
   "outputs": [],
   "source": [
    "overlap_1 = protein_coding_exon.count_overlaps(pgene, strandedness = False, overlap_col = \"Count\")\n",
    "overlap_2 = protein_coding_exon.count_overlaps(lncRNA, strandedness = False, overlap_col = \"Count\")\n",
    "protein_coding_exon = protein_coding_exon[(overlap_1.Count == 0) & (overlap_2.Count == 0)]"
   ]
  },
  {
   "cell_type": "code",
   "execution_count": 73,
   "id": "14ef4eb5-c910-42b4-971a-307f014a7069",
   "metadata": {},
   "outputs": [
    {
     "name": "stdout",
     "output_type": "stream",
     "text": [
      "19198 1196225\n"
     ]
    }
   ],
   "source": [
    "print(len(set(protein_coding_exon.gene_id)), len(protein_coding_exon))"
   ]
  },
  {
   "cell_type": "code",
   "execution_count": 42,
   "id": "f3c36f6d-199d-41f7-9e1e-bce6b34d0d76",
   "metadata": {},
   "outputs": [],
   "source": [
    "protein_coding_exon.to_gtf('protein_coding/human/protein_coding_exon_filtered_by_overlappings.gtf')"
   ]
  },
  {
   "cell_type": "code",
   "execution_count": 43,
   "id": "bf05dc55-0215-45ec-8c8b-a39cdb25cdd7",
   "metadata": {},
   "outputs": [],
   "source": [
    "! gtf2bed < protein_coding/human/protein_coding_exon_filtered_by_overlappings.gtf > protein_coding/human/protein_coding_exon_filtered_by_overlappings.bed"
   ]
  },
  {
   "cell_type": "code",
   "execution_count": 44,
   "id": "a0867124-b9a9-4e01-b498-a6c575c73f09",
   "metadata": {},
   "outputs": [],
   "source": [
    "! cat mappability/human/hg19.bedgraph | awk '{if($4>0.95) print $0}' | \\\n",
    "bedtools coverage -a protein_coding/human/protein_coding_exon_filtered_by_overlappings.bed -b - | \\\n",
    "awk -F '\\t' '{if($NF==1) print $0}' | awk -F '\\t' 'NF-=4' > protein_coding/human/protein_coding_exon_filtered_by_mappability.bed "
   ]
  },
  {
   "cell_type": "code",
   "execution_count": 45,
   "id": "c941ae8e-9b53-4edd-ab64-3f16cbc4276e",
   "metadata": {},
   "outputs": [],
   "source": [
    "! awk '{print $1\"\\t\"$7\"\\t\"$8\"\\t\"($2+1)\"\\t\"$3\"\\t\"$5\"\\t\"$6\"\\t\"$9\"\\t\"(substr($0, index($0,$10)))}' protein_coding/human/protein_coding_exon_filtered_by_mappability.bed  > protein_coding/human/protein_coding_exon_filtered_by_mappability.gtf\n",
    "! sed -i '' 's/zero_length_insertion.*//g' protein_coding/human/protein_coding_exon_filtered_by_mappability.gtf"
   ]
  },
  {
   "cell_type": "code",
   "execution_count": 75,
   "id": "9f0b54db-b929-4721-8c40-73fa7a3b5bf7",
   "metadata": {},
   "outputs": [
    {
     "name": "stdout",
     "output_type": "stream",
     "text": [
      "17880 1094254\n"
     ]
    }
   ],
   "source": [
    "protein_coding_exon = pr.read_gtf('protein_coding/human/protein_coding_exon_filtered_by_mappability.gtf')\n",
    "print(len(set(protein_coding_exon.gene_id)), len(protein_coding_exon))"
   ]
  },
  {
   "cell_type": "code",
   "execution_count": 76,
   "id": "9f56b910-2b3c-450b-ae10-9f7619a520d4",
   "metadata": {},
   "outputs": [
    {
     "name": "stdout",
     "output_type": "stream",
     "text": [
      "17599 720075\n"
     ]
    }
   ],
   "source": [
    "protein_coding_exon = protein_coding_exon[protein_coding_exon.lengths() >= 100]\n",
    "print(len(set(protein_coding_exon.gene_id)), len(protein_coding_exon))"
   ]
  },
  {
   "cell_type": "code",
   "execution_count": 78,
   "id": "e0c1b636-c906-46d3-818f-5ee8af2ef1c5",
   "metadata": {},
   "outputs": [],
   "source": [
    "protein_coding_exon.to_gtf('protein_coding/human/protein_coding_human.gtf')"
   ]
  },
  {
   "cell_type": "markdown",
   "id": "60ced669-f22d-4b45-bb48-fef183597776",
   "metadata": {
    "jp-MarkdownHeadingCollapsed": true,
    "tags": []
   },
   "source": [
    "### Extract ALL Coordinates of Pseudogenes and Protein-coding Genes"
   ]
  },
  {
   "cell_type": "code",
   "execution_count": 4,
   "id": "0eaa1a97-e2b6-447f-bcc2-e23bd1b568e9",
   "metadata": {},
   "outputs": [],
   "source": [
    "processed_pgene_type = ['processed_pseudogene', 'transcribed_processed_pseudogene', 'translated_processed_pseudogene']\n",
    "duplicated_pgene_type = ['transcribed_unprocessed_pseudogene', 'translated_unprocessed_pseudogene', 'unprocessed_pseudogene']\n",
    "unitary_pgene = ['transcribed_unitary_pseudogene', 'unitary_pseudogene']"
   ]
  },
  {
   "cell_type": "code",
   "execution_count": 6,
   "id": "20a494c2-0d49-490e-a9ac-84257b513335",
   "metadata": {},
   "outputs": [],
   "source": [
    "processed_pgene = GRCh37[(GRCh37.Feature == 'gene') & ([j in processed_pgene_type for j in GRCh37.gene_type])]\n",
    "duplicated_pgene = GRCh37[(GRCh37.Feature == 'gene') & ([j in duplicated_pgene_type for j in GRCh37.gene_type])]\n",
    "unitary_pgene = GRCh37[(GRCh37.Feature == 'gene') & ([j in unitary_pgene for j in GRCh37.gene_type])]\n",
    "protein_coding = GRCh37[(GRCh37.Feature == 'gene') & (GRCh37.gene_type == 'protein_coding')]"
   ]
  },
  {
   "cell_type": "code",
   "execution_count": 8,
   "id": "91a550e5-4375-4980-b7cf-cc1c393e3b78",
   "metadata": {},
   "outputs": [
    {
     "name": "stderr",
     "output_type": "stream",
     "text": [
      "/Users/yzjiang/opt/miniconda3/lib/python3.9/site-packages/pyranges/out.py:37: FutureWarning: Passing a set as an indexer is deprecated and will raise in a future version. Use a list instead.\n",
      "  return pd.concat([outdf, df.get(noncanonical)], axis=1)\n",
      "/Users/yzjiang/opt/miniconda3/lib/python3.9/site-packages/pyranges/out.py:37: FutureWarning: Passing a set as an indexer is deprecated and will raise in a future version. Use a list instead.\n",
      "  return pd.concat([outdf, df.get(noncanonical)], axis=1)\n",
      "/Users/yzjiang/opt/miniconda3/lib/python3.9/site-packages/pyranges/out.py:37: FutureWarning: Passing a set as an indexer is deprecated and will raise in a future version. Use a list instead.\n",
      "  return pd.concat([outdf, df.get(noncanonical)], axis=1)\n",
      "/Users/yzjiang/opt/miniconda3/lib/python3.9/site-packages/pyranges/out.py:37: FutureWarning: Passing a set as an indexer is deprecated and will raise in a future version. Use a list instead.\n",
      "  return pd.concat([outdf, df.get(noncanonical)], axis=1)\n",
      "/Users/yzjiang/opt/miniconda3/lib/python3.9/site-packages/pyranges/out.py:37: FutureWarning: Passing a set as an indexer is deprecated and will raise in a future version. Use a list instead.\n",
      "  return pd.concat([outdf, df.get(noncanonical)], axis=1)\n",
      "/Users/yzjiang/opt/miniconda3/lib/python3.9/site-packages/pyranges/out.py:37: FutureWarning: Passing a set as an indexer is deprecated and will raise in a future version. Use a list instead.\n",
      "  return pd.concat([outdf, df.get(noncanonical)], axis=1)\n",
      "/Users/yzjiang/opt/miniconda3/lib/python3.9/site-packages/pyranges/out.py:37: FutureWarning: Passing a set as an indexer is deprecated and will raise in a future version. Use a list instead.\n",
      "  return pd.concat([outdf, df.get(noncanonical)], axis=1)\n",
      "/Users/yzjiang/opt/miniconda3/lib/python3.9/site-packages/pyranges/out.py:37: FutureWarning: Passing a set as an indexer is deprecated and will raise in a future version. Use a list instead.\n",
      "  return pd.concat([outdf, df.get(noncanonical)], axis=1)\n",
      "/Users/yzjiang/opt/miniconda3/lib/python3.9/site-packages/pyranges/out.py:37: FutureWarning: Passing a set as an indexer is deprecated and will raise in a future version. Use a list instead.\n",
      "  return pd.concat([outdf, df.get(noncanonical)], axis=1)\n",
      "/Users/yzjiang/opt/miniconda3/lib/python3.9/site-packages/pyranges/out.py:37: FutureWarning: Passing a set as an indexer is deprecated and will raise in a future version. Use a list instead.\n",
      "  return pd.concat([outdf, df.get(noncanonical)], axis=1)\n",
      "/Users/yzjiang/opt/miniconda3/lib/python3.9/site-packages/pyranges/out.py:37: FutureWarning: Passing a set as an indexer is deprecated and will raise in a future version. Use a list instead.\n",
      "  return pd.concat([outdf, df.get(noncanonical)], axis=1)\n",
      "/Users/yzjiang/opt/miniconda3/lib/python3.9/site-packages/pyranges/out.py:37: FutureWarning: Passing a set as an indexer is deprecated and will raise in a future version. Use a list instead.\n",
      "  return pd.concat([outdf, df.get(noncanonical)], axis=1)\n",
      "/Users/yzjiang/opt/miniconda3/lib/python3.9/site-packages/pyranges/out.py:37: FutureWarning: Passing a set as an indexer is deprecated and will raise in a future version. Use a list instead.\n",
      "  return pd.concat([outdf, df.get(noncanonical)], axis=1)\n",
      "/Users/yzjiang/opt/miniconda3/lib/python3.9/site-packages/pyranges/out.py:37: FutureWarning: Passing a set as an indexer is deprecated and will raise in a future version. Use a list instead.\n",
      "  return pd.concat([outdf, df.get(noncanonical)], axis=1)\n",
      "/Users/yzjiang/opt/miniconda3/lib/python3.9/site-packages/pyranges/out.py:37: FutureWarning: Passing a set as an indexer is deprecated and will raise in a future version. Use a list instead.\n",
      "  return pd.concat([outdf, df.get(noncanonical)], axis=1)\n",
      "/Users/yzjiang/opt/miniconda3/lib/python3.9/site-packages/pyranges/out.py:37: FutureWarning: Passing a set as an indexer is deprecated and will raise in a future version. Use a list instead.\n",
      "  return pd.concat([outdf, df.get(noncanonical)], axis=1)\n",
      "/Users/yzjiang/opt/miniconda3/lib/python3.9/site-packages/pyranges/out.py:37: FutureWarning: Passing a set as an indexer is deprecated and will raise in a future version. Use a list instead.\n",
      "  return pd.concat([outdf, df.get(noncanonical)], axis=1)\n",
      "/Users/yzjiang/opt/miniconda3/lib/python3.9/site-packages/pyranges/out.py:37: FutureWarning: Passing a set as an indexer is deprecated and will raise in a future version. Use a list instead.\n",
      "  return pd.concat([outdf, df.get(noncanonical)], axis=1)\n",
      "/Users/yzjiang/opt/miniconda3/lib/python3.9/site-packages/pyranges/out.py:37: FutureWarning: Passing a set as an indexer is deprecated and will raise in a future version. Use a list instead.\n",
      "  return pd.concat([outdf, df.get(noncanonical)], axis=1)\n",
      "/Users/yzjiang/opt/miniconda3/lib/python3.9/site-packages/pyranges/out.py:37: FutureWarning: Passing a set as an indexer is deprecated and will raise in a future version. Use a list instead.\n",
      "  return pd.concat([outdf, df.get(noncanonical)], axis=1)\n",
      "/Users/yzjiang/opt/miniconda3/lib/python3.9/site-packages/pyranges/out.py:37: FutureWarning: Passing a set as an indexer is deprecated and will raise in a future version. Use a list instead.\n",
      "  return pd.concat([outdf, df.get(noncanonical)], axis=1)\n",
      "/Users/yzjiang/opt/miniconda3/lib/python3.9/site-packages/pyranges/out.py:37: FutureWarning: Passing a set as an indexer is deprecated and will raise in a future version. Use a list instead.\n",
      "  return pd.concat([outdf, df.get(noncanonical)], axis=1)\n",
      "/Users/yzjiang/opt/miniconda3/lib/python3.9/site-packages/pyranges/out.py:37: FutureWarning: Passing a set as an indexer is deprecated and will raise in a future version. Use a list instead.\n",
      "  return pd.concat([outdf, df.get(noncanonical)], axis=1)\n",
      "/Users/yzjiang/opt/miniconda3/lib/python3.9/site-packages/pyranges/out.py:37: FutureWarning: Passing a set as an indexer is deprecated and will raise in a future version. Use a list instead.\n",
      "  return pd.concat([outdf, df.get(noncanonical)], axis=1)\n",
      "/Users/yzjiang/opt/miniconda3/lib/python3.9/site-packages/pyranges/out.py:37: FutureWarning: Passing a set as an indexer is deprecated and will raise in a future version. Use a list instead.\n",
      "  return pd.concat([outdf, df.get(noncanonical)], axis=1)\n",
      "/Users/yzjiang/opt/miniconda3/lib/python3.9/site-packages/pyranges/out.py:37: FutureWarning: Passing a set as an indexer is deprecated and will raise in a future version. Use a list instead.\n",
      "  return pd.concat([outdf, df.get(noncanonical)], axis=1)\n",
      "/Users/yzjiang/opt/miniconda3/lib/python3.9/site-packages/pyranges/out.py:37: FutureWarning: Passing a set as an indexer is deprecated and will raise in a future version. Use a list instead.\n",
      "  return pd.concat([outdf, df.get(noncanonical)], axis=1)\n",
      "/Users/yzjiang/opt/miniconda3/lib/python3.9/site-packages/pyranges/out.py:37: FutureWarning: Passing a set as an indexer is deprecated and will raise in a future version. Use a list instead.\n",
      "  return pd.concat([outdf, df.get(noncanonical)], axis=1)\n",
      "/Users/yzjiang/opt/miniconda3/lib/python3.9/site-packages/pyranges/out.py:37: FutureWarning: Passing a set as an indexer is deprecated and will raise in a future version. Use a list instead.\n",
      "  return pd.concat([outdf, df.get(noncanonical)], axis=1)\n",
      "/Users/yzjiang/opt/miniconda3/lib/python3.9/site-packages/pyranges/out.py:37: FutureWarning: Passing a set as an indexer is deprecated and will raise in a future version. Use a list instead.\n",
      "  return pd.concat([outdf, df.get(noncanonical)], axis=1)\n",
      "/Users/yzjiang/opt/miniconda3/lib/python3.9/site-packages/pyranges/out.py:37: FutureWarning: Passing a set as an indexer is deprecated and will raise in a future version. Use a list instead.\n",
      "  return pd.concat([outdf, df.get(noncanonical)], axis=1)\n",
      "/Users/yzjiang/opt/miniconda3/lib/python3.9/site-packages/pyranges/out.py:37: FutureWarning: Passing a set as an indexer is deprecated and will raise in a future version. Use a list instead.\n",
      "  return pd.concat([outdf, df.get(noncanonical)], axis=1)\n",
      "/Users/yzjiang/opt/miniconda3/lib/python3.9/site-packages/pyranges/out.py:37: FutureWarning: Passing a set as an indexer is deprecated and will raise in a future version. Use a list instead.\n",
      "  return pd.concat([outdf, df.get(noncanonical)], axis=1)\n",
      "/Users/yzjiang/opt/miniconda3/lib/python3.9/site-packages/pyranges/out.py:37: FutureWarning: Passing a set as an indexer is deprecated and will raise in a future version. Use a list instead.\n",
      "  return pd.concat([outdf, df.get(noncanonical)], axis=1)\n",
      "/Users/yzjiang/opt/miniconda3/lib/python3.9/site-packages/pyranges/out.py:37: FutureWarning: Passing a set as an indexer is deprecated and will raise in a future version. Use a list instead.\n",
      "  return pd.concat([outdf, df.get(noncanonical)], axis=1)\n",
      "/Users/yzjiang/opt/miniconda3/lib/python3.9/site-packages/pyranges/out.py:37: FutureWarning: Passing a set as an indexer is deprecated and will raise in a future version. Use a list instead.\n",
      "  return pd.concat([outdf, df.get(noncanonical)], axis=1)\n",
      "/Users/yzjiang/opt/miniconda3/lib/python3.9/site-packages/pyranges/out.py:37: FutureWarning: Passing a set as an indexer is deprecated and will raise in a future version. Use a list instead.\n",
      "  return pd.concat([outdf, df.get(noncanonical)], axis=1)\n",
      "/Users/yzjiang/opt/miniconda3/lib/python3.9/site-packages/pyranges/out.py:37: FutureWarning: Passing a set as an indexer is deprecated and will raise in a future version. Use a list instead.\n",
      "  return pd.concat([outdf, df.get(noncanonical)], axis=1)\n",
      "/Users/yzjiang/opt/miniconda3/lib/python3.9/site-packages/pyranges/out.py:37: FutureWarning: Passing a set as an indexer is deprecated and will raise in a future version. Use a list instead.\n",
      "  return pd.concat([outdf, df.get(noncanonical)], axis=1)\n",
      "/Users/yzjiang/opt/miniconda3/lib/python3.9/site-packages/pyranges/out.py:37: FutureWarning: Passing a set as an indexer is deprecated and will raise in a future version. Use a list instead.\n",
      "  return pd.concat([outdf, df.get(noncanonical)], axis=1)\n",
      "/Users/yzjiang/opt/miniconda3/lib/python3.9/site-packages/pyranges/out.py:37: FutureWarning: Passing a set as an indexer is deprecated and will raise in a future version. Use a list instead.\n",
      "  return pd.concat([outdf, df.get(noncanonical)], axis=1)\n",
      "/Users/yzjiang/opt/miniconda3/lib/python3.9/site-packages/pyranges/out.py:37: FutureWarning: Passing a set as an indexer is deprecated and will raise in a future version. Use a list instead.\n",
      "  return pd.concat([outdf, df.get(noncanonical)], axis=1)\n",
      "/Users/yzjiang/opt/miniconda3/lib/python3.9/site-packages/pyranges/out.py:37: FutureWarning: Passing a set as an indexer is deprecated and will raise in a future version. Use a list instead.\n",
      "  return pd.concat([outdf, df.get(noncanonical)], axis=1)\n",
      "/Users/yzjiang/opt/miniconda3/lib/python3.9/site-packages/pyranges/out.py:37: FutureWarning: Passing a set as an indexer is deprecated and will raise in a future version. Use a list instead.\n",
      "  return pd.concat([outdf, df.get(noncanonical)], axis=1)\n",
      "/Users/yzjiang/opt/miniconda3/lib/python3.9/site-packages/pyranges/out.py:37: FutureWarning: Passing a set as an indexer is deprecated and will raise in a future version. Use a list instead.\n",
      "  return pd.concat([outdf, df.get(noncanonical)], axis=1)\n",
      "/Users/yzjiang/opt/miniconda3/lib/python3.9/site-packages/pyranges/out.py:37: FutureWarning: Passing a set as an indexer is deprecated and will raise in a future version. Use a list instead.\n",
      "  return pd.concat([outdf, df.get(noncanonical)], axis=1)\n",
      "/Users/yzjiang/opt/miniconda3/lib/python3.9/site-packages/pyranges/out.py:37: FutureWarning: Passing a set as an indexer is deprecated and will raise in a future version. Use a list instead.\n",
      "  return pd.concat([outdf, df.get(noncanonical)], axis=1)\n",
      "/Users/yzjiang/opt/miniconda3/lib/python3.9/site-packages/pyranges/out.py:37: FutureWarning: Passing a set as an indexer is deprecated and will raise in a future version. Use a list instead.\n",
      "  return pd.concat([outdf, df.get(noncanonical)], axis=1)\n",
      "/Users/yzjiang/opt/miniconda3/lib/python3.9/site-packages/pyranges/out.py:37: FutureWarning: Passing a set as an indexer is deprecated and will raise in a future version. Use a list instead.\n",
      "  return pd.concat([outdf, df.get(noncanonical)], axis=1)\n",
      "/Users/yzjiang/opt/miniconda3/lib/python3.9/site-packages/pyranges/out.py:37: FutureWarning: Passing a set as an indexer is deprecated and will raise in a future version. Use a list instead.\n",
      "  return pd.concat([outdf, df.get(noncanonical)], axis=1)\n",
      "/Users/yzjiang/opt/miniconda3/lib/python3.9/site-packages/pyranges/out.py:37: FutureWarning: Passing a set as an indexer is deprecated and will raise in a future version. Use a list instead.\n",
      "  return pd.concat([outdf, df.get(noncanonical)], axis=1)\n",
      "/Users/yzjiang/opt/miniconda3/lib/python3.9/site-packages/pyranges/out.py:37: FutureWarning: Passing a set as an indexer is deprecated and will raise in a future version. Use a list instead.\n",
      "  return pd.concat([outdf, df.get(noncanonical)], axis=1)\n",
      "/Users/yzjiang/opt/miniconda3/lib/python3.9/site-packages/pyranges/out.py:37: FutureWarning: Passing a set as an indexer is deprecated and will raise in a future version. Use a list instead.\n",
      "  return pd.concat([outdf, df.get(noncanonical)], axis=1)\n",
      "/Users/yzjiang/opt/miniconda3/lib/python3.9/site-packages/pyranges/out.py:37: FutureWarning: Passing a set as an indexer is deprecated and will raise in a future version. Use a list instead.\n",
      "  return pd.concat([outdf, df.get(noncanonical)], axis=1)\n",
      "/Users/yzjiang/opt/miniconda3/lib/python3.9/site-packages/pyranges/out.py:37: FutureWarning: Passing a set as an indexer is deprecated and will raise in a future version. Use a list instead.\n",
      "  return pd.concat([outdf, df.get(noncanonical)], axis=1)\n",
      "/Users/yzjiang/opt/miniconda3/lib/python3.9/site-packages/pyranges/out.py:37: FutureWarning: Passing a set as an indexer is deprecated and will raise in a future version. Use a list instead.\n",
      "  return pd.concat([outdf, df.get(noncanonical)], axis=1)\n",
      "/Users/yzjiang/opt/miniconda3/lib/python3.9/site-packages/pyranges/out.py:37: FutureWarning: Passing a set as an indexer is deprecated and will raise in a future version. Use a list instead.\n",
      "  return pd.concat([outdf, df.get(noncanonical)], axis=1)\n",
      "/Users/yzjiang/opt/miniconda3/lib/python3.9/site-packages/pyranges/out.py:37: FutureWarning: Passing a set as an indexer is deprecated and will raise in a future version. Use a list instead.\n",
      "  return pd.concat([outdf, df.get(noncanonical)], axis=1)\n",
      "/Users/yzjiang/opt/miniconda3/lib/python3.9/site-packages/pyranges/out.py:37: FutureWarning: Passing a set as an indexer is deprecated and will raise in a future version. Use a list instead.\n",
      "  return pd.concat([outdf, df.get(noncanonical)], axis=1)\n",
      "/Users/yzjiang/opt/miniconda3/lib/python3.9/site-packages/pyranges/out.py:37: FutureWarning: Passing a set as an indexer is deprecated and will raise in a future version. Use a list instead.\n",
      "  return pd.concat([outdf, df.get(noncanonical)], axis=1)\n",
      "/Users/yzjiang/opt/miniconda3/lib/python3.9/site-packages/pyranges/out.py:37: FutureWarning: Passing a set as an indexer is deprecated and will raise in a future version. Use a list instead.\n",
      "  return pd.concat([outdf, df.get(noncanonical)], axis=1)\n",
      "/Users/yzjiang/opt/miniconda3/lib/python3.9/site-packages/pyranges/out.py:37: FutureWarning: Passing a set as an indexer is deprecated and will raise in a future version. Use a list instead.\n",
      "  return pd.concat([outdf, df.get(noncanonical)], axis=1)\n",
      "/Users/yzjiang/opt/miniconda3/lib/python3.9/site-packages/pyranges/out.py:37: FutureWarning: Passing a set as an indexer is deprecated and will raise in a future version. Use a list instead.\n",
      "  return pd.concat([outdf, df.get(noncanonical)], axis=1)\n",
      "/Users/yzjiang/opt/miniconda3/lib/python3.9/site-packages/pyranges/out.py:37: FutureWarning: Passing a set as an indexer is deprecated and will raise in a future version. Use a list instead.\n",
      "  return pd.concat([outdf, df.get(noncanonical)], axis=1)\n",
      "/Users/yzjiang/opt/miniconda3/lib/python3.9/site-packages/pyranges/out.py:37: FutureWarning: Passing a set as an indexer is deprecated and will raise in a future version. Use a list instead.\n",
      "  return pd.concat([outdf, df.get(noncanonical)], axis=1)\n",
      "/Users/yzjiang/opt/miniconda3/lib/python3.9/site-packages/pyranges/out.py:37: FutureWarning: Passing a set as an indexer is deprecated and will raise in a future version. Use a list instead.\n",
      "  return pd.concat([outdf, df.get(noncanonical)], axis=1)\n",
      "/Users/yzjiang/opt/miniconda3/lib/python3.9/site-packages/pyranges/out.py:37: FutureWarning: Passing a set as an indexer is deprecated and will raise in a future version. Use a list instead.\n",
      "  return pd.concat([outdf, df.get(noncanonical)], axis=1)\n",
      "/Users/yzjiang/opt/miniconda3/lib/python3.9/site-packages/pyranges/out.py:37: FutureWarning: Passing a set as an indexer is deprecated and will raise in a future version. Use a list instead.\n",
      "  return pd.concat([outdf, df.get(noncanonical)], axis=1)\n",
      "/Users/yzjiang/opt/miniconda3/lib/python3.9/site-packages/pyranges/out.py:37: FutureWarning: Passing a set as an indexer is deprecated and will raise in a future version. Use a list instead.\n",
      "  return pd.concat([outdf, df.get(noncanonical)], axis=1)\n",
      "/Users/yzjiang/opt/miniconda3/lib/python3.9/site-packages/pyranges/out.py:37: FutureWarning: Passing a set as an indexer is deprecated and will raise in a future version. Use a list instead.\n",
      "  return pd.concat([outdf, df.get(noncanonical)], axis=1)\n",
      "/Users/yzjiang/opt/miniconda3/lib/python3.9/site-packages/pyranges/out.py:37: FutureWarning: Passing a set as an indexer is deprecated and will raise in a future version. Use a list instead.\n",
      "  return pd.concat([outdf, df.get(noncanonical)], axis=1)\n",
      "/Users/yzjiang/opt/miniconda3/lib/python3.9/site-packages/pyranges/out.py:37: FutureWarning: Passing a set as an indexer is deprecated and will raise in a future version. Use a list instead.\n",
      "  return pd.concat([outdf, df.get(noncanonical)], axis=1)\n",
      "/Users/yzjiang/opt/miniconda3/lib/python3.9/site-packages/pyranges/out.py:37: FutureWarning: Passing a set as an indexer is deprecated and will raise in a future version. Use a list instead.\n",
      "  return pd.concat([outdf, df.get(noncanonical)], axis=1)\n",
      "/Users/yzjiang/opt/miniconda3/lib/python3.9/site-packages/pyranges/out.py:37: FutureWarning: Passing a set as an indexer is deprecated and will raise in a future version. Use a list instead.\n",
      "  return pd.concat([outdf, df.get(noncanonical)], axis=1)\n",
      "/Users/yzjiang/opt/miniconda3/lib/python3.9/site-packages/pyranges/out.py:37: FutureWarning: Passing a set as an indexer is deprecated and will raise in a future version. Use a list instead.\n",
      "  return pd.concat([outdf, df.get(noncanonical)], axis=1)\n",
      "/Users/yzjiang/opt/miniconda3/lib/python3.9/site-packages/pyranges/out.py:37: FutureWarning: Passing a set as an indexer is deprecated and will raise in a future version. Use a list instead.\n",
      "  return pd.concat([outdf, df.get(noncanonical)], axis=1)\n",
      "/Users/yzjiang/opt/miniconda3/lib/python3.9/site-packages/pyranges/out.py:37: FutureWarning: Passing a set as an indexer is deprecated and will raise in a future version. Use a list instead.\n",
      "  return pd.concat([outdf, df.get(noncanonical)], axis=1)\n",
      "/Users/yzjiang/opt/miniconda3/lib/python3.9/site-packages/pyranges/out.py:37: FutureWarning: Passing a set as an indexer is deprecated and will raise in a future version. Use a list instead.\n",
      "  return pd.concat([outdf, df.get(noncanonical)], axis=1)\n",
      "/Users/yzjiang/opt/miniconda3/lib/python3.9/site-packages/pyranges/out.py:37: FutureWarning: Passing a set as an indexer is deprecated and will raise in a future version. Use a list instead.\n",
      "  return pd.concat([outdf, df.get(noncanonical)], axis=1)\n",
      "/Users/yzjiang/opt/miniconda3/lib/python3.9/site-packages/pyranges/out.py:37: FutureWarning: Passing a set as an indexer is deprecated and will raise in a future version. Use a list instead.\n",
      "  return pd.concat([outdf, df.get(noncanonical)], axis=1)\n",
      "/Users/yzjiang/opt/miniconda3/lib/python3.9/site-packages/pyranges/out.py:37: FutureWarning: Passing a set as an indexer is deprecated and will raise in a future version. Use a list instead.\n",
      "  return pd.concat([outdf, df.get(noncanonical)], axis=1)\n",
      "/Users/yzjiang/opt/miniconda3/lib/python3.9/site-packages/pyranges/out.py:37: FutureWarning: Passing a set as an indexer is deprecated and will raise in a future version. Use a list instead.\n",
      "  return pd.concat([outdf, df.get(noncanonical)], axis=1)\n",
      "/Users/yzjiang/opt/miniconda3/lib/python3.9/site-packages/pyranges/out.py:37: FutureWarning: Passing a set as an indexer is deprecated and will raise in a future version. Use a list instead.\n",
      "  return pd.concat([outdf, df.get(noncanonical)], axis=1)\n",
      "/Users/yzjiang/opt/miniconda3/lib/python3.9/site-packages/pyranges/out.py:37: FutureWarning: Passing a set as an indexer is deprecated and will raise in a future version. Use a list instead.\n",
      "  return pd.concat([outdf, df.get(noncanonical)], axis=1)\n",
      "/Users/yzjiang/opt/miniconda3/lib/python3.9/site-packages/pyranges/out.py:37: FutureWarning: Passing a set as an indexer is deprecated and will raise in a future version. Use a list instead.\n",
      "  return pd.concat([outdf, df.get(noncanonical)], axis=1)\n",
      "/Users/yzjiang/opt/miniconda3/lib/python3.9/site-packages/pyranges/out.py:37: FutureWarning: Passing a set as an indexer is deprecated and will raise in a future version. Use a list instead.\n",
      "  return pd.concat([outdf, df.get(noncanonical)], axis=1)\n",
      "/Users/yzjiang/opt/miniconda3/lib/python3.9/site-packages/pyranges/out.py:37: FutureWarning: Passing a set as an indexer is deprecated and will raise in a future version. Use a list instead.\n",
      "  return pd.concat([outdf, df.get(noncanonical)], axis=1)\n",
      "/Users/yzjiang/opt/miniconda3/lib/python3.9/site-packages/pyranges/out.py:37: FutureWarning: Passing a set as an indexer is deprecated and will raise in a future version. Use a list instead.\n",
      "  return pd.concat([outdf, df.get(noncanonical)], axis=1)\n",
      "/Users/yzjiang/opt/miniconda3/lib/python3.9/site-packages/pyranges/out.py:37: FutureWarning: Passing a set as an indexer is deprecated and will raise in a future version. Use a list instead.\n",
      "  return pd.concat([outdf, df.get(noncanonical)], axis=1)\n",
      "/Users/yzjiang/opt/miniconda3/lib/python3.9/site-packages/pyranges/out.py:37: FutureWarning: Passing a set as an indexer is deprecated and will raise in a future version. Use a list instead.\n",
      "  return pd.concat([outdf, df.get(noncanonical)], axis=1)\n",
      "/Users/yzjiang/opt/miniconda3/lib/python3.9/site-packages/pyranges/out.py:37: FutureWarning: Passing a set as an indexer is deprecated and will raise in a future version. Use a list instead.\n",
      "  return pd.concat([outdf, df.get(noncanonical)], axis=1)\n",
      "/Users/yzjiang/opt/miniconda3/lib/python3.9/site-packages/pyranges/out.py:37: FutureWarning: Passing a set as an indexer is deprecated and will raise in a future version. Use a list instead.\n",
      "  return pd.concat([outdf, df.get(noncanonical)], axis=1)\n",
      "/Users/yzjiang/opt/miniconda3/lib/python3.9/site-packages/pyranges/out.py:37: FutureWarning: Passing a set as an indexer is deprecated and will raise in a future version. Use a list instead.\n",
      "  return pd.concat([outdf, df.get(noncanonical)], axis=1)\n",
      "/Users/yzjiang/opt/miniconda3/lib/python3.9/site-packages/pyranges/out.py:37: FutureWarning: Passing a set as an indexer is deprecated and will raise in a future version. Use a list instead.\n",
      "  return pd.concat([outdf, df.get(noncanonical)], axis=1)\n",
      "/Users/yzjiang/opt/miniconda3/lib/python3.9/site-packages/pyranges/out.py:37: FutureWarning: Passing a set as an indexer is deprecated and will raise in a future version. Use a list instead.\n",
      "  return pd.concat([outdf, df.get(noncanonical)], axis=1)\n",
      "/Users/yzjiang/opt/miniconda3/lib/python3.9/site-packages/pyranges/out.py:37: FutureWarning: Passing a set as an indexer is deprecated and will raise in a future version. Use a list instead.\n",
      "  return pd.concat([outdf, df.get(noncanonical)], axis=1)\n",
      "/Users/yzjiang/opt/miniconda3/lib/python3.9/site-packages/pyranges/out.py:37: FutureWarning: Passing a set as an indexer is deprecated and will raise in a future version. Use a list instead.\n",
      "  return pd.concat([outdf, df.get(noncanonical)], axis=1)\n",
      "/Users/yzjiang/opt/miniconda3/lib/python3.9/site-packages/pyranges/out.py:37: FutureWarning: Passing a set as an indexer is deprecated and will raise in a future version. Use a list instead.\n",
      "  return pd.concat([outdf, df.get(noncanonical)], axis=1)\n",
      "/Users/yzjiang/opt/miniconda3/lib/python3.9/site-packages/pyranges/out.py:37: FutureWarning: Passing a set as an indexer is deprecated and will raise in a future version. Use a list instead.\n",
      "  return pd.concat([outdf, df.get(noncanonical)], axis=1)\n",
      "/Users/yzjiang/opt/miniconda3/lib/python3.9/site-packages/pyranges/out.py:37: FutureWarning: Passing a set as an indexer is deprecated and will raise in a future version. Use a list instead.\n",
      "  return pd.concat([outdf, df.get(noncanonical)], axis=1)\n",
      "/Users/yzjiang/opt/miniconda3/lib/python3.9/site-packages/pyranges/out.py:37: FutureWarning: Passing a set as an indexer is deprecated and will raise in a future version. Use a list instead.\n",
      "  return pd.concat([outdf, df.get(noncanonical)], axis=1)\n",
      "/Users/yzjiang/opt/miniconda3/lib/python3.9/site-packages/pyranges/out.py:37: FutureWarning: Passing a set as an indexer is deprecated and will raise in a future version. Use a list instead.\n",
      "  return pd.concat([outdf, df.get(noncanonical)], axis=1)\n",
      "/Users/yzjiang/opt/miniconda3/lib/python3.9/site-packages/pyranges/out.py:37: FutureWarning: Passing a set as an indexer is deprecated and will raise in a future version. Use a list instead.\n",
      "  return pd.concat([outdf, df.get(noncanonical)], axis=1)\n",
      "/Users/yzjiang/opt/miniconda3/lib/python3.9/site-packages/pyranges/out.py:37: FutureWarning: Passing a set as an indexer is deprecated and will raise in a future version. Use a list instead.\n",
      "  return pd.concat([outdf, df.get(noncanonical)], axis=1)\n",
      "/Users/yzjiang/opt/miniconda3/lib/python3.9/site-packages/pyranges/out.py:37: FutureWarning: Passing a set as an indexer is deprecated and will raise in a future version. Use a list instead.\n",
      "  return pd.concat([outdf, df.get(noncanonical)], axis=1)\n",
      "/Users/yzjiang/opt/miniconda3/lib/python3.9/site-packages/pyranges/out.py:37: FutureWarning: Passing a set as an indexer is deprecated and will raise in a future version. Use a list instead.\n",
      "  return pd.concat([outdf, df.get(noncanonical)], axis=1)\n",
      "/Users/yzjiang/opt/miniconda3/lib/python3.9/site-packages/pyranges/out.py:37: FutureWarning: Passing a set as an indexer is deprecated and will raise in a future version. Use a list instead.\n",
      "  return pd.concat([outdf, df.get(noncanonical)], axis=1)\n",
      "/Users/yzjiang/opt/miniconda3/lib/python3.9/site-packages/pyranges/out.py:37: FutureWarning: Passing a set as an indexer is deprecated and will raise in a future version. Use a list instead.\n",
      "  return pd.concat([outdf, df.get(noncanonical)], axis=1)\n",
      "/Users/yzjiang/opt/miniconda3/lib/python3.9/site-packages/pyranges/out.py:37: FutureWarning: Passing a set as an indexer is deprecated and will raise in a future version. Use a list instead.\n",
      "  return pd.concat([outdf, df.get(noncanonical)], axis=1)\n",
      "/Users/yzjiang/opt/miniconda3/lib/python3.9/site-packages/pyranges/out.py:37: FutureWarning: Passing a set as an indexer is deprecated and will raise in a future version. Use a list instead.\n",
      "  return pd.concat([outdf, df.get(noncanonical)], axis=1)\n",
      "/Users/yzjiang/opt/miniconda3/lib/python3.9/site-packages/pyranges/out.py:37: FutureWarning: Passing a set as an indexer is deprecated and will raise in a future version. Use a list instead.\n",
      "  return pd.concat([outdf, df.get(noncanonical)], axis=1)\n",
      "/Users/yzjiang/opt/miniconda3/lib/python3.9/site-packages/pyranges/out.py:37: FutureWarning: Passing a set as an indexer is deprecated and will raise in a future version. Use a list instead.\n",
      "  return pd.concat([outdf, df.get(noncanonical)], axis=1)\n",
      "/Users/yzjiang/opt/miniconda3/lib/python3.9/site-packages/pyranges/out.py:37: FutureWarning: Passing a set as an indexer is deprecated and will raise in a future version. Use a list instead.\n",
      "  return pd.concat([outdf, df.get(noncanonical)], axis=1)\n",
      "/Users/yzjiang/opt/miniconda3/lib/python3.9/site-packages/pyranges/out.py:37: FutureWarning: Passing a set as an indexer is deprecated and will raise in a future version. Use a list instead.\n",
      "  return pd.concat([outdf, df.get(noncanonical)], axis=1)\n",
      "/Users/yzjiang/opt/miniconda3/lib/python3.9/site-packages/pyranges/out.py:37: FutureWarning: Passing a set as an indexer is deprecated and will raise in a future version. Use a list instead.\n",
      "  return pd.concat([outdf, df.get(noncanonical)], axis=1)\n",
      "/Users/yzjiang/opt/miniconda3/lib/python3.9/site-packages/pyranges/out.py:37: FutureWarning: Passing a set as an indexer is deprecated and will raise in a future version. Use a list instead.\n",
      "  return pd.concat([outdf, df.get(noncanonical)], axis=1)\n",
      "/Users/yzjiang/opt/miniconda3/lib/python3.9/site-packages/pyranges/out.py:37: FutureWarning: Passing a set as an indexer is deprecated and will raise in a future version. Use a list instead.\n",
      "  return pd.concat([outdf, df.get(noncanonical)], axis=1)\n",
      "/Users/yzjiang/opt/miniconda3/lib/python3.9/site-packages/pyranges/out.py:37: FutureWarning: Passing a set as an indexer is deprecated and will raise in a future version. Use a list instead.\n",
      "  return pd.concat([outdf, df.get(noncanonical)], axis=1)\n",
      "/Users/yzjiang/opt/miniconda3/lib/python3.9/site-packages/pyranges/out.py:37: FutureWarning: Passing a set as an indexer is deprecated and will raise in a future version. Use a list instead.\n",
      "  return pd.concat([outdf, df.get(noncanonical)], axis=1)\n",
      "/Users/yzjiang/opt/miniconda3/lib/python3.9/site-packages/pyranges/out.py:37: FutureWarning: Passing a set as an indexer is deprecated and will raise in a future version. Use a list instead.\n",
      "  return pd.concat([outdf, df.get(noncanonical)], axis=1)\n",
      "/Users/yzjiang/opt/miniconda3/lib/python3.9/site-packages/pyranges/out.py:37: FutureWarning: Passing a set as an indexer is deprecated and will raise in a future version. Use a list instead.\n",
      "  return pd.concat([outdf, df.get(noncanonical)], axis=1)\n",
      "/Users/yzjiang/opt/miniconda3/lib/python3.9/site-packages/pyranges/out.py:37: FutureWarning: Passing a set as an indexer is deprecated and will raise in a future version. Use a list instead.\n",
      "  return pd.concat([outdf, df.get(noncanonical)], axis=1)\n",
      "/Users/yzjiang/opt/miniconda3/lib/python3.9/site-packages/pyranges/out.py:37: FutureWarning: Passing a set as an indexer is deprecated and will raise in a future version. Use a list instead.\n",
      "  return pd.concat([outdf, df.get(noncanonical)], axis=1)\n",
      "/Users/yzjiang/opt/miniconda3/lib/python3.9/site-packages/pyranges/out.py:37: FutureWarning: Passing a set as an indexer is deprecated and will raise in a future version. Use a list instead.\n",
      "  return pd.concat([outdf, df.get(noncanonical)], axis=1)\n",
      "/Users/yzjiang/opt/miniconda3/lib/python3.9/site-packages/pyranges/out.py:37: FutureWarning: Passing a set as an indexer is deprecated and will raise in a future version. Use a list instead.\n",
      "  return pd.concat([outdf, df.get(noncanonical)], axis=1)\n",
      "/Users/yzjiang/opt/miniconda3/lib/python3.9/site-packages/pyranges/out.py:37: FutureWarning: Passing a set as an indexer is deprecated and will raise in a future version. Use a list instead.\n",
      "  return pd.concat([outdf, df.get(noncanonical)], axis=1)\n",
      "/Users/yzjiang/opt/miniconda3/lib/python3.9/site-packages/pyranges/out.py:37: FutureWarning: Passing a set as an indexer is deprecated and will raise in a future version. Use a list instead.\n",
      "  return pd.concat([outdf, df.get(noncanonical)], axis=1)\n",
      "/Users/yzjiang/opt/miniconda3/lib/python3.9/site-packages/pyranges/out.py:37: FutureWarning: Passing a set as an indexer is deprecated and will raise in a future version. Use a list instead.\n",
      "  return pd.concat([outdf, df.get(noncanonical)], axis=1)\n",
      "/Users/yzjiang/opt/miniconda3/lib/python3.9/site-packages/pyranges/out.py:37: FutureWarning: Passing a set as an indexer is deprecated and will raise in a future version. Use a list instead.\n",
      "  return pd.concat([outdf, df.get(noncanonical)], axis=1)\n",
      "/Users/yzjiang/opt/miniconda3/lib/python3.9/site-packages/pyranges/out.py:37: FutureWarning: Passing a set as an indexer is deprecated and will raise in a future version. Use a list instead.\n",
      "  return pd.concat([outdf, df.get(noncanonical)], axis=1)\n",
      "/Users/yzjiang/opt/miniconda3/lib/python3.9/site-packages/pyranges/out.py:37: FutureWarning: Passing a set as an indexer is deprecated and will raise in a future version. Use a list instead.\n",
      "  return pd.concat([outdf, df.get(noncanonical)], axis=1)\n",
      "/Users/yzjiang/opt/miniconda3/lib/python3.9/site-packages/pyranges/out.py:37: FutureWarning: Passing a set as an indexer is deprecated and will raise in a future version. Use a list instead.\n",
      "  return pd.concat([outdf, df.get(noncanonical)], axis=1)\n",
      "/Users/yzjiang/opt/miniconda3/lib/python3.9/site-packages/pyranges/out.py:37: FutureWarning: Passing a set as an indexer is deprecated and will raise in a future version. Use a list instead.\n",
      "  return pd.concat([outdf, df.get(noncanonical)], axis=1)\n",
      "/Users/yzjiang/opt/miniconda3/lib/python3.9/site-packages/pyranges/out.py:37: FutureWarning: Passing a set as an indexer is deprecated and will raise in a future version. Use a list instead.\n",
      "  return pd.concat([outdf, df.get(noncanonical)], axis=1)\n",
      "/Users/yzjiang/opt/miniconda3/lib/python3.9/site-packages/pyranges/out.py:37: FutureWarning: Passing a set as an indexer is deprecated and will raise in a future version. Use a list instead.\n",
      "  return pd.concat([outdf, df.get(noncanonical)], axis=1)\n",
      "/Users/yzjiang/opt/miniconda3/lib/python3.9/site-packages/pyranges/out.py:37: FutureWarning: Passing a set as an indexer is deprecated and will raise in a future version. Use a list instead.\n",
      "  return pd.concat([outdf, df.get(noncanonical)], axis=1)\n",
      "/Users/yzjiang/opt/miniconda3/lib/python3.9/site-packages/pyranges/out.py:37: FutureWarning: Passing a set as an indexer is deprecated and will raise in a future version. Use a list instead.\n",
      "  return pd.concat([outdf, df.get(noncanonical)], axis=1)\n",
      "/Users/yzjiang/opt/miniconda3/lib/python3.9/site-packages/pyranges/out.py:37: FutureWarning: Passing a set as an indexer is deprecated and will raise in a future version. Use a list instead.\n",
      "  return pd.concat([outdf, df.get(noncanonical)], axis=1)\n",
      "/Users/yzjiang/opt/miniconda3/lib/python3.9/site-packages/pyranges/out.py:37: FutureWarning: Passing a set as an indexer is deprecated and will raise in a future version. Use a list instead.\n",
      "  return pd.concat([outdf, df.get(noncanonical)], axis=1)\n",
      "/Users/yzjiang/opt/miniconda3/lib/python3.9/site-packages/pyranges/out.py:37: FutureWarning: Passing a set as an indexer is deprecated and will raise in a future version. Use a list instead.\n",
      "  return pd.concat([outdf, df.get(noncanonical)], axis=1)\n",
      "/Users/yzjiang/opt/miniconda3/lib/python3.9/site-packages/pyranges/out.py:37: FutureWarning: Passing a set as an indexer is deprecated and will raise in a future version. Use a list instead.\n",
      "  return pd.concat([outdf, df.get(noncanonical)], axis=1)\n",
      "/Users/yzjiang/opt/miniconda3/lib/python3.9/site-packages/pyranges/out.py:37: FutureWarning: Passing a set as an indexer is deprecated and will raise in a future version. Use a list instead.\n",
      "  return pd.concat([outdf, df.get(noncanonical)], axis=1)\n",
      "/Users/yzjiang/opt/miniconda3/lib/python3.9/site-packages/pyranges/out.py:37: FutureWarning: Passing a set as an indexer is deprecated and will raise in a future version. Use a list instead.\n",
      "  return pd.concat([outdf, df.get(noncanonical)], axis=1)\n",
      "/Users/yzjiang/opt/miniconda3/lib/python3.9/site-packages/pyranges/out.py:37: FutureWarning: Passing a set as an indexer is deprecated and will raise in a future version. Use a list instead.\n",
      "  return pd.concat([outdf, df.get(noncanonical)], axis=1)\n",
      "/Users/yzjiang/opt/miniconda3/lib/python3.9/site-packages/pyranges/out.py:37: FutureWarning: Passing a set as an indexer is deprecated and will raise in a future version. Use a list instead.\n",
      "  return pd.concat([outdf, df.get(noncanonical)], axis=1)\n",
      "/Users/yzjiang/opt/miniconda3/lib/python3.9/site-packages/pyranges/out.py:37: FutureWarning: Passing a set as an indexer is deprecated and will raise in a future version. Use a list instead.\n",
      "  return pd.concat([outdf, df.get(noncanonical)], axis=1)\n",
      "/Users/yzjiang/opt/miniconda3/lib/python3.9/site-packages/pyranges/out.py:37: FutureWarning: Passing a set as an indexer is deprecated and will raise in a future version. Use a list instead.\n",
      "  return pd.concat([outdf, df.get(noncanonical)], axis=1)\n",
      "/Users/yzjiang/opt/miniconda3/lib/python3.9/site-packages/pyranges/out.py:37: FutureWarning: Passing a set as an indexer is deprecated and will raise in a future version. Use a list instead.\n",
      "  return pd.concat([outdf, df.get(noncanonical)], axis=1)\n",
      "/Users/yzjiang/opt/miniconda3/lib/python3.9/site-packages/pyranges/out.py:37: FutureWarning: Passing a set as an indexer is deprecated and will raise in a future version. Use a list instead.\n",
      "  return pd.concat([outdf, df.get(noncanonical)], axis=1)\n",
      "/Users/yzjiang/opt/miniconda3/lib/python3.9/site-packages/pyranges/out.py:37: FutureWarning: Passing a set as an indexer is deprecated and will raise in a future version. Use a list instead.\n",
      "  return pd.concat([outdf, df.get(noncanonical)], axis=1)\n",
      "/Users/yzjiang/opt/miniconda3/lib/python3.9/site-packages/pyranges/out.py:37: FutureWarning: Passing a set as an indexer is deprecated and will raise in a future version. Use a list instead.\n",
      "  return pd.concat([outdf, df.get(noncanonical)], axis=1)\n",
      "/Users/yzjiang/opt/miniconda3/lib/python3.9/site-packages/pyranges/out.py:37: FutureWarning: Passing a set as an indexer is deprecated and will raise in a future version. Use a list instead.\n",
      "  return pd.concat([outdf, df.get(noncanonical)], axis=1)\n",
      "/Users/yzjiang/opt/miniconda3/lib/python3.9/site-packages/pyranges/out.py:37: FutureWarning: Passing a set as an indexer is deprecated and will raise in a future version. Use a list instead.\n",
      "  return pd.concat([outdf, df.get(noncanonical)], axis=1)\n",
      "/Users/yzjiang/opt/miniconda3/lib/python3.9/site-packages/pyranges/out.py:37: FutureWarning: Passing a set as an indexer is deprecated and will raise in a future version. Use a list instead.\n",
      "  return pd.concat([outdf, df.get(noncanonical)], axis=1)\n",
      "/Users/yzjiang/opt/miniconda3/lib/python3.9/site-packages/pyranges/out.py:37: FutureWarning: Passing a set as an indexer is deprecated and will raise in a future version. Use a list instead.\n",
      "  return pd.concat([outdf, df.get(noncanonical)], axis=1)\n",
      "/Users/yzjiang/opt/miniconda3/lib/python3.9/site-packages/pyranges/out.py:37: FutureWarning: Passing a set as an indexer is deprecated and will raise in a future version. Use a list instead.\n",
      "  return pd.concat([outdf, df.get(noncanonical)], axis=1)\n",
      "/Users/yzjiang/opt/miniconda3/lib/python3.9/site-packages/pyranges/out.py:37: FutureWarning: Passing a set as an indexer is deprecated and will raise in a future version. Use a list instead.\n",
      "  return pd.concat([outdf, df.get(noncanonical)], axis=1)\n",
      "/Users/yzjiang/opt/miniconda3/lib/python3.9/site-packages/pyranges/out.py:37: FutureWarning: Passing a set as an indexer is deprecated and will raise in a future version. Use a list instead.\n",
      "  return pd.concat([outdf, df.get(noncanonical)], axis=1)\n",
      "/Users/yzjiang/opt/miniconda3/lib/python3.9/site-packages/pyranges/out.py:37: FutureWarning: Passing a set as an indexer is deprecated and will raise in a future version. Use a list instead.\n",
      "  return pd.concat([outdf, df.get(noncanonical)], axis=1)\n",
      "/Users/yzjiang/opt/miniconda3/lib/python3.9/site-packages/pyranges/out.py:37: FutureWarning: Passing a set as an indexer is deprecated and will raise in a future version. Use a list instead.\n",
      "  return pd.concat([outdf, df.get(noncanonical)], axis=1)\n",
      "/Users/yzjiang/opt/miniconda3/lib/python3.9/site-packages/pyranges/out.py:37: FutureWarning: Passing a set as an indexer is deprecated and will raise in a future version. Use a list instead.\n",
      "  return pd.concat([outdf, df.get(noncanonical)], axis=1)\n",
      "/Users/yzjiang/opt/miniconda3/lib/python3.9/site-packages/pyranges/out.py:37: FutureWarning: Passing a set as an indexer is deprecated and will raise in a future version. Use a list instead.\n",
      "  return pd.concat([outdf, df.get(noncanonical)], axis=1)\n",
      "/Users/yzjiang/opt/miniconda3/lib/python3.9/site-packages/pyranges/out.py:37: FutureWarning: Passing a set as an indexer is deprecated and will raise in a future version. Use a list instead.\n",
      "  return pd.concat([outdf, df.get(noncanonical)], axis=1)\n",
      "/Users/yzjiang/opt/miniconda3/lib/python3.9/site-packages/pyranges/out.py:37: FutureWarning: Passing a set as an indexer is deprecated and will raise in a future version. Use a list instead.\n",
      "  return pd.concat([outdf, df.get(noncanonical)], axis=1)\n",
      "/Users/yzjiang/opt/miniconda3/lib/python3.9/site-packages/pyranges/out.py:37: FutureWarning: Passing a set as an indexer is deprecated and will raise in a future version. Use a list instead.\n",
      "  return pd.concat([outdf, df.get(noncanonical)], axis=1)\n",
      "/Users/yzjiang/opt/miniconda3/lib/python3.9/site-packages/pyranges/out.py:37: FutureWarning: Passing a set as an indexer is deprecated and will raise in a future version. Use a list instead.\n",
      "  return pd.concat([outdf, df.get(noncanonical)], axis=1)\n",
      "/Users/yzjiang/opt/miniconda3/lib/python3.9/site-packages/pyranges/out.py:37: FutureWarning: Passing a set as an indexer is deprecated and will raise in a future version. Use a list instead.\n",
      "  return pd.concat([outdf, df.get(noncanonical)], axis=1)\n",
      "/Users/yzjiang/opt/miniconda3/lib/python3.9/site-packages/pyranges/out.py:37: FutureWarning: Passing a set as an indexer is deprecated and will raise in a future version. Use a list instead.\n",
      "  return pd.concat([outdf, df.get(noncanonical)], axis=1)\n",
      "/Users/yzjiang/opt/miniconda3/lib/python3.9/site-packages/pyranges/out.py:37: FutureWarning: Passing a set as an indexer is deprecated and will raise in a future version. Use a list instead.\n",
      "  return pd.concat([outdf, df.get(noncanonical)], axis=1)\n",
      "/Users/yzjiang/opt/miniconda3/lib/python3.9/site-packages/pyranges/out.py:37: FutureWarning: Passing a set as an indexer is deprecated and will raise in a future version. Use a list instead.\n",
      "  return pd.concat([outdf, df.get(noncanonical)], axis=1)\n",
      "/Users/yzjiang/opt/miniconda3/lib/python3.9/site-packages/pyranges/out.py:37: FutureWarning: Passing a set as an indexer is deprecated and will raise in a future version. Use a list instead.\n",
      "  return pd.concat([outdf, df.get(noncanonical)], axis=1)\n",
      "/Users/yzjiang/opt/miniconda3/lib/python3.9/site-packages/pyranges/out.py:37: FutureWarning: Passing a set as an indexer is deprecated and will raise in a future version. Use a list instead.\n",
      "  return pd.concat([outdf, df.get(noncanonical)], axis=1)\n",
      "/Users/yzjiang/opt/miniconda3/lib/python3.9/site-packages/pyranges/out.py:37: FutureWarning: Passing a set as an indexer is deprecated and will raise in a future version. Use a list instead.\n",
      "  return pd.concat([outdf, df.get(noncanonical)], axis=1)\n",
      "/Users/yzjiang/opt/miniconda3/lib/python3.9/site-packages/pyranges/out.py:37: FutureWarning: Passing a set as an indexer is deprecated and will raise in a future version. Use a list instead.\n",
      "  return pd.concat([outdf, df.get(noncanonical)], axis=1)\n",
      "/Users/yzjiang/opt/miniconda3/lib/python3.9/site-packages/pyranges/out.py:37: FutureWarning: Passing a set as an indexer is deprecated and will raise in a future version. Use a list instead.\n",
      "  return pd.concat([outdf, df.get(noncanonical)], axis=1)\n",
      "/Users/yzjiang/opt/miniconda3/lib/python3.9/site-packages/pyranges/out.py:37: FutureWarning: Passing a set as an indexer is deprecated and will raise in a future version. Use a list instead.\n",
      "  return pd.concat([outdf, df.get(noncanonical)], axis=1)\n",
      "/Users/yzjiang/opt/miniconda3/lib/python3.9/site-packages/pyranges/out.py:37: FutureWarning: Passing a set as an indexer is deprecated and will raise in a future version. Use a list instead.\n",
      "  return pd.concat([outdf, df.get(noncanonical)], axis=1)\n",
      "/Users/yzjiang/opt/miniconda3/lib/python3.9/site-packages/pyranges/out.py:37: FutureWarning: Passing a set as an indexer is deprecated and will raise in a future version. Use a list instead.\n",
      "  return pd.concat([outdf, df.get(noncanonical)], axis=1)\n",
      "/Users/yzjiang/opt/miniconda3/lib/python3.9/site-packages/pyranges/out.py:37: FutureWarning: Passing a set as an indexer is deprecated and will raise in a future version. Use a list instead.\n",
      "  return pd.concat([outdf, df.get(noncanonical)], axis=1)\n",
      "/Users/yzjiang/opt/miniconda3/lib/python3.9/site-packages/pyranges/out.py:37: FutureWarning: Passing a set as an indexer is deprecated and will raise in a future version. Use a list instead.\n",
      "  return pd.concat([outdf, df.get(noncanonical)], axis=1)\n",
      "/Users/yzjiang/opt/miniconda3/lib/python3.9/site-packages/pyranges/out.py:37: FutureWarning: Passing a set as an indexer is deprecated and will raise in a future version. Use a list instead.\n",
      "  return pd.concat([outdf, df.get(noncanonical)], axis=1)\n",
      "/Users/yzjiang/opt/miniconda3/lib/python3.9/site-packages/pyranges/out.py:37: FutureWarning: Passing a set as an indexer is deprecated and will raise in a future version. Use a list instead.\n",
      "  return pd.concat([outdf, df.get(noncanonical)], axis=1)\n",
      "/Users/yzjiang/opt/miniconda3/lib/python3.9/site-packages/pyranges/out.py:37: FutureWarning: Passing a set as an indexer is deprecated and will raise in a future version. Use a list instead.\n",
      "  return pd.concat([outdf, df.get(noncanonical)], axis=1)\n",
      "/Users/yzjiang/opt/miniconda3/lib/python3.9/site-packages/pyranges/out.py:37: FutureWarning: Passing a set as an indexer is deprecated and will raise in a future version. Use a list instead.\n",
      "  return pd.concat([outdf, df.get(noncanonical)], axis=1)\n",
      "/Users/yzjiang/opt/miniconda3/lib/python3.9/site-packages/pyranges/out.py:37: FutureWarning: Passing a set as an indexer is deprecated and will raise in a future version. Use a list instead.\n",
      "  return pd.concat([outdf, df.get(noncanonical)], axis=1)\n",
      "/Users/yzjiang/opt/miniconda3/lib/python3.9/site-packages/pyranges/out.py:37: FutureWarning: Passing a set as an indexer is deprecated and will raise in a future version. Use a list instead.\n",
      "  return pd.concat([outdf, df.get(noncanonical)], axis=1)\n",
      "/Users/yzjiang/opt/miniconda3/lib/python3.9/site-packages/pyranges/out.py:37: FutureWarning: Passing a set as an indexer is deprecated and will raise in a future version. Use a list instead.\n",
      "  return pd.concat([outdf, df.get(noncanonical)], axis=1)\n",
      "/Users/yzjiang/opt/miniconda3/lib/python3.9/site-packages/pyranges/out.py:37: FutureWarning: Passing a set as an indexer is deprecated and will raise in a future version. Use a list instead.\n",
      "  return pd.concat([outdf, df.get(noncanonical)], axis=1)\n",
      "/Users/yzjiang/opt/miniconda3/lib/python3.9/site-packages/pyranges/out.py:37: FutureWarning: Passing a set as an indexer is deprecated and will raise in a future version. Use a list instead.\n",
      "  return pd.concat([outdf, df.get(noncanonical)], axis=1)\n"
     ]
    }
   ],
   "source": [
    "processed_pgene.to_bed('parent/fasta/processed_pgene.bed', chain = False)\n",
    "duplicated_pgene.to_bed('parent/fasta/duplicated_pgene.bed', chain = False)\n",
    "unitary_pgene.to_bed('parent/fasta/unitary_pgene.bed', chain = False)\n",
    "protein_coding.to_bed('parent/fasta/protein_coding.bed', chain = False)"
   ]
  },
  {
   "cell_type": "code",
   "execution_count": 50,
   "id": "156a2889-43bd-4ef6-9e04-cc9b4cb44f53",
   "metadata": {},
   "outputs": [],
   "source": [
    "! gunzip fasta/GRCh37.primary_assembly.genome.fa.gz"
   ]
  },
  {
   "cell_type": "code",
   "execution_count": 10,
   "id": "d37cc609-0a63-46ef-9f98-2d1d3a3f8bde",
   "metadata": {},
   "outputs": [],
   "source": [
    "! cat parent/fasta/duplicated_pgene.bed | awk -F '\\t' '{print $1\"\\t\"$2\"\\t\"$3\"\\t\"$10\"\\t\"$5\"\\t\"$6}' | bedtools getfasta -fi parent/fasta/GRCh37.primary_assembly.genome.fa -fo parent/fasta/duplicated_pgene.fa -bed - -nameOnly -s\n",
    "! cat parent/fasta/processed_pgene.bed | awk -F '\\t' '{print $1\"\\t\"$2\"\\t\"$3\"\\t\"$10\"\\t\"$5\"\\t\"$6}' | bedtools getfasta -fi parent/fasta/GRCh37.primary_assembly.genome.fa -fo parent/fasta/processed_pgene.fa -bed - -nameOnly -s\n",
    "! cat parent/fasta/unitary_pgene.bed | awk -F '\\t' '{print $1\"\\t\"$2\"\\t\"$3\"\\t\"$10\"\\t\"$5\"\\t\"$6}' | bedtools getfasta -fi parent/fasta/GRCh37.primary_assembly.genome.fa -fo parent/fasta/unitary_pgene.fa -bed - -nameOnly -s\n",
    "! cat parent/fasta/protein_coding.bed | awk -F '\\t' '{print $1\"\\t\"$2\"\\t\"$3\"\\t\"$10\"\\t\"$5\"\\t\"$6}' | bedtools getfasta -fi parent/fasta/GRCh37.primary_assembly.genome.fa -fo parent/fasta/protein_coding.fa -bed - -nameOnly -s"
   ]
  },
  {
   "cell_type": "code",
   "execution_count": null,
   "id": "a962a89c-0fa7-4a66-ab7a-f8f33eb8b538",
   "metadata": {},
   "outputs": [],
   "source": []
  },
  {
   "cell_type": "code",
   "execution_count": 2,
   "id": "1f24b4e3-377f-41a2-bebb-210b53a7b24d",
   "metadata": {},
   "outputs": [],
   "source": [
    "rheMac10 = pr.read_gtf('GTF/rheMac10.gtf_polished')"
   ]
  },
  {
   "cell_type": "code",
   "execution_count": 3,
   "id": "f31d43ae-85e1-42f2-8951-95fa6e9908fd",
   "metadata": {},
   "outputs": [
    {
     "data": {
      "text/html": [
       "<div>\n",
       "<style scoped>\n",
       "    .dataframe tbody tr th:only-of-type {\n",
       "        vertical-align: middle;\n",
       "    }\n",
       "\n",
       "    .dataframe tbody tr th {\n",
       "        vertical-align: top;\n",
       "    }\n",
       "\n",
       "    .dataframe thead th {\n",
       "        text-align: right;\n",
       "    }\n",
       "</style>\n",
       "<table border=\"1\" class=\"dataframe\">\n",
       "  <thead>\n",
       "    <tr style=\"text-align: right;\">\n",
       "      <th></th>\n",
       "      <th>Chromosome</th>\n",
       "      <th>Source</th>\n",
       "      <th>Feature</th>\n",
       "      <th>Start</th>\n",
       "      <th>End</th>\n",
       "      <th>Score</th>\n",
       "      <th>Strand</th>\n",
       "      <th>Frame</th>\n",
       "      <th>gene_id</th>\n",
       "      <th>gene_type</th>\n",
       "      <th>...</th>\n",
       "      <th>matches_ref_protein</th>\n",
       "      <th>valid_ORF</th>\n",
       "      <th>missing_stop_codon</th>\n",
       "      <th>missing_start_codon</th>\n",
       "      <th>gene_status</th>\n",
       "      <th>remap_substituted_missing_target</th>\n",
       "      <th>transcript_status</th>\n",
       "      <th>ont</th>\n",
       "      <th>inframe_stop_codon</th>\n",
       "      <th>partial_ORF</th>\n",
       "    </tr>\n",
       "  </thead>\n",
       "  <tbody>\n",
       "    <tr>\n",
       "      <th>0</th>\n",
       "      <td>chr1</td>\n",
       "      <td>Liftoff</td>\n",
       "      <td>gene</td>\n",
       "      <td>71528</td>\n",
       "      <td>80806</td>\n",
       "      <td>.</td>\n",
       "      <td>+</td>\n",
       "      <td>.</td>\n",
       "      <td>ENSG00000171163.16_11</td>\n",
       "      <td>protein_coding</td>\n",
       "      <td>...</td>\n",
       "      <td>NaN</td>\n",
       "      <td>NaN</td>\n",
       "      <td>NaN</td>\n",
       "      <td>NaN</td>\n",
       "      <td>NaN</td>\n",
       "      <td>NaN</td>\n",
       "      <td>NaN</td>\n",
       "      <td>NaN</td>\n",
       "      <td>NaN</td>\n",
       "      <td>NaN</td>\n",
       "    </tr>\n",
       "    <tr>\n",
       "      <th>1</th>\n",
       "      <td>chr1</td>\n",
       "      <td>Liftoff</td>\n",
       "      <td>transcript</td>\n",
       "      <td>71528</td>\n",
       "      <td>72824</td>\n",
       "      <td>.</td>\n",
       "      <td>+</td>\n",
       "      <td>.</td>\n",
       "      <td>ENSG00000171163.16_11</td>\n",
       "      <td>protein_coding</td>\n",
       "      <td>...</td>\n",
       "      <td>NaN</td>\n",
       "      <td>NaN</td>\n",
       "      <td>NaN</td>\n",
       "      <td>NaN</td>\n",
       "      <td>NaN</td>\n",
       "      <td>NaN</td>\n",
       "      <td>NaN</td>\n",
       "      <td>NaN</td>\n",
       "      <td>NaN</td>\n",
       "      <td>NaN</td>\n",
       "    </tr>\n",
       "    <tr>\n",
       "      <th>2</th>\n",
       "      <td>chr1</td>\n",
       "      <td>Liftoff</td>\n",
       "      <td>exon</td>\n",
       "      <td>71528</td>\n",
       "      <td>71658</td>\n",
       "      <td>.</td>\n",
       "      <td>+</td>\n",
       "      <td>.</td>\n",
       "      <td>ENSG00000171163.16_11</td>\n",
       "      <td>protein_coding</td>\n",
       "      <td>...</td>\n",
       "      <td>NaN</td>\n",
       "      <td>NaN</td>\n",
       "      <td>NaN</td>\n",
       "      <td>NaN</td>\n",
       "      <td>NaN</td>\n",
       "      <td>NaN</td>\n",
       "      <td>NaN</td>\n",
       "      <td>NaN</td>\n",
       "      <td>NaN</td>\n",
       "      <td>NaN</td>\n",
       "    </tr>\n",
       "    <tr>\n",
       "      <th>3</th>\n",
       "      <td>chr1</td>\n",
       "      <td>Liftoff</td>\n",
       "      <td>exon</td>\n",
       "      <td>72368</td>\n",
       "      <td>72824</td>\n",
       "      <td>.</td>\n",
       "      <td>+</td>\n",
       "      <td>.</td>\n",
       "      <td>ENSG00000171163.16_11</td>\n",
       "      <td>protein_coding</td>\n",
       "      <td>...</td>\n",
       "      <td>NaN</td>\n",
       "      <td>NaN</td>\n",
       "      <td>NaN</td>\n",
       "      <td>NaN</td>\n",
       "      <td>NaN</td>\n",
       "      <td>NaN</td>\n",
       "      <td>NaN</td>\n",
       "      <td>NaN</td>\n",
       "      <td>NaN</td>\n",
       "      <td>NaN</td>\n",
       "    </tr>\n",
       "    <tr>\n",
       "      <th>4</th>\n",
       "      <td>chr1</td>\n",
       "      <td>Liftoff</td>\n",
       "      <td>transcript</td>\n",
       "      <td>71556</td>\n",
       "      <td>73120</td>\n",
       "      <td>.</td>\n",
       "      <td>+</td>\n",
       "      <td>.</td>\n",
       "      <td>ENSG00000171163.16_11</td>\n",
       "      <td>protein_coding</td>\n",
       "      <td>...</td>\n",
       "      <td>NaN</td>\n",
       "      <td>NaN</td>\n",
       "      <td>NaN</td>\n",
       "      <td>NaN</td>\n",
       "      <td>NaN</td>\n",
       "      <td>NaN</td>\n",
       "      <td>NaN</td>\n",
       "      <td>NaN</td>\n",
       "      <td>NaN</td>\n",
       "      <td>NaN</td>\n",
       "    </tr>\n",
       "    <tr>\n",
       "      <th>...</th>\n",
       "      <td>...</td>\n",
       "      <td>...</td>\n",
       "      <td>...</td>\n",
       "      <td>...</td>\n",
       "      <td>...</td>\n",
       "      <td>...</td>\n",
       "      <td>...</td>\n",
       "      <td>...</td>\n",
       "      <td>...</td>\n",
       "      <td>...</td>\n",
       "      <td>...</td>\n",
       "      <td>...</td>\n",
       "      <td>...</td>\n",
       "      <td>...</td>\n",
       "      <td>...</td>\n",
       "      <td>...</td>\n",
       "      <td>...</td>\n",
       "      <td>...</td>\n",
       "      <td>...</td>\n",
       "      <td>...</td>\n",
       "      <td>...</td>\n",
       "    </tr>\n",
       "    <tr>\n",
       "      <th>3067821</th>\n",
       "      <td>chrY</td>\n",
       "      <td>Liftoff</td>\n",
       "      <td>transcript</td>\n",
       "      <td>11193131</td>\n",
       "      <td>11199257</td>\n",
       "      <td>.</td>\n",
       "      <td>-</td>\n",
       "      <td>.</td>\n",
       "      <td>ENSG00000229709.1_5</td>\n",
       "      <td>unprocessed_pseudogene</td>\n",
       "      <td>...</td>\n",
       "      <td>NaN</td>\n",
       "      <td>NaN</td>\n",
       "      <td>NaN</td>\n",
       "      <td>NaN</td>\n",
       "      <td>NaN</td>\n",
       "      <td>NaN</td>\n",
       "      <td>NaN</td>\n",
       "      <td>PGO:0000005</td>\n",
       "      <td>NaN</td>\n",
       "      <td>NaN</td>\n",
       "    </tr>\n",
       "    <tr>\n",
       "      <th>3067822</th>\n",
       "      <td>chrY</td>\n",
       "      <td>Liftoff</td>\n",
       "      <td>exon</td>\n",
       "      <td>11193131</td>\n",
       "      <td>11193261</td>\n",
       "      <td>.</td>\n",
       "      <td>-</td>\n",
       "      <td>.</td>\n",
       "      <td>ENSG00000229709.1_5</td>\n",
       "      <td>unprocessed_pseudogene</td>\n",
       "      <td>...</td>\n",
       "      <td>NaN</td>\n",
       "      <td>NaN</td>\n",
       "      <td>NaN</td>\n",
       "      <td>NaN</td>\n",
       "      <td>NaN</td>\n",
       "      <td>NaN</td>\n",
       "      <td>NaN</td>\n",
       "      <td>PGO:0000005</td>\n",
       "      <td>NaN</td>\n",
       "      <td>NaN</td>\n",
       "    </tr>\n",
       "    <tr>\n",
       "      <th>3067823</th>\n",
       "      <td>chrY</td>\n",
       "      <td>Liftoff</td>\n",
       "      <td>exon</td>\n",
       "      <td>11194977</td>\n",
       "      <td>11195067</td>\n",
       "      <td>.</td>\n",
       "      <td>-</td>\n",
       "      <td>.</td>\n",
       "      <td>ENSG00000229709.1_5</td>\n",
       "      <td>unprocessed_pseudogene</td>\n",
       "      <td>...</td>\n",
       "      <td>NaN</td>\n",
       "      <td>NaN</td>\n",
       "      <td>NaN</td>\n",
       "      <td>NaN</td>\n",
       "      <td>NaN</td>\n",
       "      <td>NaN</td>\n",
       "      <td>NaN</td>\n",
       "      <td>PGO:0000005</td>\n",
       "      <td>NaN</td>\n",
       "      <td>NaN</td>\n",
       "    </tr>\n",
       "    <tr>\n",
       "      <th>3067824</th>\n",
       "      <td>chrY</td>\n",
       "      <td>Liftoff</td>\n",
       "      <td>exon</td>\n",
       "      <td>11197046</td>\n",
       "      <td>11197220</td>\n",
       "      <td>.</td>\n",
       "      <td>-</td>\n",
       "      <td>.</td>\n",
       "      <td>ENSG00000229709.1_5</td>\n",
       "      <td>unprocessed_pseudogene</td>\n",
       "      <td>...</td>\n",
       "      <td>NaN</td>\n",
       "      <td>NaN</td>\n",
       "      <td>NaN</td>\n",
       "      <td>NaN</td>\n",
       "      <td>NaN</td>\n",
       "      <td>NaN</td>\n",
       "      <td>NaN</td>\n",
       "      <td>PGO:0000005</td>\n",
       "      <td>NaN</td>\n",
       "      <td>NaN</td>\n",
       "    </tr>\n",
       "    <tr>\n",
       "      <th>3067825</th>\n",
       "      <td>chrY</td>\n",
       "      <td>Liftoff</td>\n",
       "      <td>exon</td>\n",
       "      <td>11199040</td>\n",
       "      <td>11199257</td>\n",
       "      <td>.</td>\n",
       "      <td>-</td>\n",
       "      <td>.</td>\n",
       "      <td>ENSG00000229709.1_5</td>\n",
       "      <td>unprocessed_pseudogene</td>\n",
       "      <td>...</td>\n",
       "      <td>NaN</td>\n",
       "      <td>NaN</td>\n",
       "      <td>NaN</td>\n",
       "      <td>NaN</td>\n",
       "      <td>NaN</td>\n",
       "      <td>NaN</td>\n",
       "      <td>NaN</td>\n",
       "      <td>PGO:0000005</td>\n",
       "      <td>NaN</td>\n",
       "      <td>NaN</td>\n",
       "    </tr>\n",
       "  </tbody>\n",
       "</table>\n",
       "<p>3067826 rows × 45 columns</p>\n",
       "</div>"
      ],
      "text/plain": [
       "+--------------+------------+------------+-----------+-----------+-------+\n",
       "| Chromosome   | Source     | Feature    | Start     | End       | +40   |\n",
       "| (category)   | (object)   | (object)   | (int32)   | (int32)   | ...   |\n",
       "|--------------+------------+------------+-----------+-----------+-------|\n",
       "| chr1         | Liftoff    | gene       | 71528     | 80806     | ...   |\n",
       "| chr1         | Liftoff    | transcript | 71528     | 72824     | ...   |\n",
       "| chr1         | Liftoff    | exon       | 71528     | 71658     | ...   |\n",
       "| chr1         | Liftoff    | exon       | 72368     | 72824     | ...   |\n",
       "| ...          | ...        | ...        | ...       | ...       | ...   |\n",
       "| chrY         | Liftoff    | exon       | 11193131  | 11193261  | ...   |\n",
       "| chrY         | Liftoff    | exon       | 11194977  | 11195067  | ...   |\n",
       "| chrY         | Liftoff    | exon       | 11197046  | 11197220  | ...   |\n",
       "| chrY         | Liftoff    | exon       | 11199040  | 11199257  | ...   |\n",
       "+--------------+------------+------------+-----------+-----------+-------+\n",
       "Stranded PyRanges object has 3,067,826 rows and 45 columns from 230 chromosomes.\n",
       "For printing, the PyRanges was sorted on Chromosome and Strand.\n",
       "40 hidden columns: Score, Strand, Frame, gene_id, gene_type, gene_name, level, ... (+ 33 more.)"
      ]
     },
     "execution_count": 3,
     "metadata": {},
     "output_type": "execute_result"
    }
   ],
   "source": [
    "rheMac10"
   ]
  },
  {
   "cell_type": "markdown",
   "id": "1c9ae0aa-99ab-48db-a288-8e12222964db",
   "metadata": {
    "tags": []
   },
   "source": [
    "# Macaque (rheMac10, Liftover from human GENCODE GTF Release 39)"
   ]
  },
  {
   "cell_type": "code",
   "execution_count": 41,
   "id": "b62de0f4-f6cc-4461-9139-e4b412059b9d",
   "metadata": {},
   "outputs": [],
   "source": [
    "rheMac10 = pr.read_gtf('GTF/rheMac10.gtf_polished')"
   ]
  },
  {
   "cell_type": "markdown",
   "id": "a9a91293-dfe1-44ba-8e17-ef2c29c5f0d5",
   "metadata": {
    "tags": []
   },
   "source": [
    "## Macaque Pseudogene\n",
    "10,935 pgenes (28,943 exons) -> 6,669 pgenes (20,536 exons) after removing exons overlapping with protein coding genes and lncRNAs -> 4,256 pgenes (13,750 exons) after selecting exons within unique genomic regions -> 3,226 pgenes (7,473 exons) after selecting duplicated and processed pgenes overlapping with PseudoPipe's output (fraction > 0.5) -> 3,174 pgenes (6,074 exons) after removing exons shorter than 100 bp."
   ]
  },
  {
   "cell_type": "code",
   "execution_count": 42,
   "id": "42562712-81a2-426b-b33d-7e221971791e",
   "metadata": {},
   "outputs": [],
   "source": [
    "## extract pgenes from the GTF file\n",
    "pgene_type = ['processed_pseudogene', 'transcribed_processed_pseudogene', 'transcribed_unitary_pseudogene', 'transcribed_unprocessed_pseudogene',\n",
    "              'translated_processed_pseudogene', 'translated_unprocessed_pseudogene', 'unitary_pseudogene', 'unprocessed_pseudogene']"
   ]
  },
  {
   "cell_type": "code",
   "execution_count": 43,
   "id": "ef54f105-5d3a-4fa9-ae53-2cb5dce61fbb",
   "metadata": {},
   "outputs": [],
   "source": [
    "pgene = rheMac10[(rheMac10.Feature == 'gene') & ([j in pgene_type for j in rheMac10.gene_type])]\n",
    "pexon = rheMac10[(rheMac10.Feature == 'exon') & ([j in pgene_type for j in rheMac10.gene_type])]\n",
    "protein_coding = rheMac10[(rheMac10.Feature == 'gene') & (rheMac10.gene_type == 'protein_coding')]\n",
    "protein_coding_exon = rheMac10[(rheMac10.Feature == 'exon') & (rheMac10.gene_type == 'protein_coding')]\n",
    "lncRNA = rheMac10[(rheMac10.Feature == 'gene') & (rheMac10.gene_type == 'lncRNA')]"
   ]
  },
  {
   "cell_type": "code",
   "execution_count": 44,
   "id": "7075c449-45f8-4bae-9bcb-957e8b2de953",
   "metadata": {},
   "outputs": [
    {
     "name": "stdout",
     "output_type": "stream",
     "text": [
      "10935 28943\n"
     ]
    }
   ],
   "source": [
    "print(len(set(pexon.gene_id)), len(pexon))"
   ]
  },
  {
   "cell_type": "code",
   "execution_count": 45,
   "id": "9d89df0a-6172-4e91-a7fa-060252e16283",
   "metadata": {},
   "outputs": [],
   "source": [
    "overlap_1 = pexon.count_overlaps(protein_coding, strandedness = False, overlap_col = \"Count\")\n",
    "overlap_2 = pexon.count_overlaps(lncRNA, strandedness = False, overlap_col = \"Count\")\n",
    "pexon = pexon[(overlap_1.Count == 0) & (overlap_2.Count == 0)]"
   ]
  },
  {
   "cell_type": "code",
   "execution_count": 46,
   "id": "c4ee7dc4-c536-4eb3-99ab-13a2bc9ff04f",
   "metadata": {},
   "outputs": [
    {
     "name": "stdout",
     "output_type": "stream",
     "text": [
      "6669 20536\n"
     ]
    }
   ],
   "source": [
    "print(len(set(pexon.gene_id)), len(pexon))"
   ]
  },
  {
   "cell_type": "code",
   "execution_count": 47,
   "id": "ceed52fe-5f5e-4b8e-bb89-71a4a5b49341",
   "metadata": {},
   "outputs": [],
   "source": [
    "pexon.to_gtf('pgene/macaque/pexon_filtered_by_overlappings.gtf')"
   ]
  },
  {
   "cell_type": "code",
   "execution_count": 48,
   "id": "51d23bde-6e05-4d22-ad17-66745d4ac858",
   "metadata": {},
   "outputs": [],
   "source": [
    "! gtf2bed < pgene/macaque/pexon_filtered_by_overlappings.gtf > pgene/macaque/pexon_filtered_by_overlappings.bed"
   ]
  },
  {
   "cell_type": "code",
   "execution_count": 49,
   "id": "8552f1cd-060f-43ea-b33f-f2cf564995ce",
   "metadata": {},
   "outputs": [],
   "source": [
    "! cat mappability/macaque/rheMac10.bedgraph | awk '{if($4>0.95) print $0}' | \\\n",
    "bedtools coverage -a pgene/macaque/pexon_filtered_by_overlappings.bed -b - | \\\n",
    "awk -F '\\t' '{if($NF==1) print $0}' | awk -F '\\t' 'NF-=4' > pgene/macaque/pexon_filtered_by_mappability.bed "
   ]
  },
  {
   "cell_type": "code",
   "execution_count": 37,
   "id": "ec1bf782-62fa-4af3-9018-5d764c34b526",
   "metadata": {},
   "outputs": [],
   "source": [
    "! awk '{print $1\"\\t\"$7\"\\t\"$8\"\\t\"($2+1)\"\\t\"$3\"\\t\"$5\"\\t\"$6\"\\t\"$9\"\\t\"(substr($0, index($0,$10)))}' pgene/macaque/pexon_filtered_by_mappability.bed > pgene/macaque/pexon_filtered_by_mappability.gtf\n",
    "! sed -i '' 's/zero_length_insertion.*//g' pgene/macaque/pexon_filtered_by_mappability.gtf"
   ]
  },
  {
   "cell_type": "code",
   "execution_count": 38,
   "id": "1e4cde5b-7668-41bd-9191-9afac28f1b02",
   "metadata": {},
   "outputs": [],
   "source": [
    "! gtf2bed < pgene/macaque/pexon_filtered_by_mappability.gtf > pgene/macaque/pexon_filtered_by_mappability.bed"
   ]
  },
  {
   "cell_type": "code",
   "execution_count": 39,
   "id": "d3153c68-d2fb-4bca-b40e-c8ad3c4777f1",
   "metadata": {},
   "outputs": [],
   "source": [
    "! cat pgene/macaque/pexon_filtered_by_mappability.bed | grep -v unitary |\\\n",
    "bedtools coverage -a - -b pgene/macaque/ppipe/Macaca_mulatta.Mmul_10.pgene.bed |\\\n",
    "awk -F '\\t' '{if($NF>= 0.5) print $0}' | awk -F '\\t' 'NF-=4' |\\\n",
    "awk '{print $1\"\\t\"$7\"\\t\"$8\"\\t\"($2+1)\"\\t\"$3\"\\t\"$5\"\\t\"$6\"\\t\"$9\"\\t\"(substr($0, index($0,$10)))}' > pgene/macaque/dup_pro.gtf"
   ]
  },
  {
   "cell_type": "code",
   "execution_count": 40,
   "id": "c60b2f7d-b3ed-4a36-948f-e8d768f0080d",
   "metadata": {},
   "outputs": [],
   "source": [
    "! cat pexon_filtered_by_mappability.bed | grep unitary |\\\n",
    "awk '{print $1\"\\t\"$7\"\\t\"$8\"\\t\"($2+1)\"\\t\"$3\"\\t\"$5\"\\t\"$6\"\\t\"$9\"\\t\"(substr($0, index($0,$10)))}' > pgene/macaque/unitary.gtf"
   ]
  },
  {
   "cell_type": "code",
   "execution_count": 41,
   "id": "d2f852c5-7a84-4a6f-9f1a-79bc43905218",
   "metadata": {},
   "outputs": [],
   "source": [
    "! cat pgene/macaque/dup_pro.gtf pgene/macaque/unitary.gtf > pgene/macaque/pexon_filtered_by_ppipe.gtf"
   ]
  },
  {
   "cell_type": "code",
   "execution_count": 42,
   "id": "5dcaf505-35be-4c41-8811-7bda361bac88",
   "metadata": {},
   "outputs": [
    {
     "name": "stdout",
     "output_type": "stream",
     "text": [
      "3226 7473\n"
     ]
    }
   ],
   "source": [
    "pexon = pr.read_gtf('pgene/macaque/pexon_filtered_by_ppipe.gtf')\n",
    "print(len(set(pexon.gene_id)), len(pexon))"
   ]
  },
  {
   "cell_type": "code",
   "execution_count": 43,
   "id": "c4198a2e-07ce-460b-b9b1-3c00d63f7d85",
   "metadata": {},
   "outputs": [
    {
     "name": "stdout",
     "output_type": "stream",
     "text": [
      "3174 6074\n"
     ]
    }
   ],
   "source": [
    "pexon = pexon[pexon.lengths() >= 100]\n",
    "print(len(set(pexon.gene_id)), len(pexon))"
   ]
  },
  {
   "cell_type": "code",
   "execution_count": 44,
   "id": "2a1beed2-0783-4bfb-af47-6fca74381db0",
   "metadata": {},
   "outputs": [
    {
     "data": {
      "text/html": [
       "<div>\n",
       "<style scoped>\n",
       "    .dataframe tbody tr th:only-of-type {\n",
       "        vertical-align: middle;\n",
       "    }\n",
       "\n",
       "    .dataframe tbody tr th {\n",
       "        vertical-align: top;\n",
       "    }\n",
       "\n",
       "    .dataframe thead th {\n",
       "        text-align: right;\n",
       "    }\n",
       "</style>\n",
       "<table border=\"1\" class=\"dataframe\">\n",
       "  <thead>\n",
       "    <tr style=\"text-align: right;\">\n",
       "      <th></th>\n",
       "      <th>Chromosome</th>\n",
       "      <th>Source</th>\n",
       "      <th>Feature</th>\n",
       "      <th>Start</th>\n",
       "      <th>End</th>\n",
       "      <th>Score</th>\n",
       "      <th>Strand</th>\n",
       "      <th>Frame</th>\n",
       "      <th>gene_id</th>\n",
       "      <th>gene_type</th>\n",
       "      <th>...</th>\n",
       "      <th>transcript_support_level</th>\n",
       "      <th>tag</th>\n",
       "      <th>havana_transcript</th>\n",
       "      <th>Parent</th>\n",
       "      <th>exon_number</th>\n",
       "      <th>exon_id</th>\n",
       "      <th>remap_original_location</th>\n",
       "      <th>ID</th>\n",
       "      <th>hgnc_id</th>\n",
       "      <th>ont</th>\n",
       "    </tr>\n",
       "  </thead>\n",
       "  <tbody>\n",
       "    <tr>\n",
       "      <th>0</th>\n",
       "      <td>chr1</td>\n",
       "      <td>Liftoff</td>\n",
       "      <td>exon</td>\n",
       "      <td>195749</td>\n",
       "      <td>195958</td>\n",
       "      <td>.</td>\n",
       "      <td>+</td>\n",
       "      <td>.</td>\n",
       "      <td>ENSG00000242529.1_8</td>\n",
       "      <td>transcribed_processed_pseudogene</td>\n",
       "      <td>...</td>\n",
       "      <td>NA</td>\n",
       "      <td>basic,Ensembl_canonical</td>\n",
       "      <td>OTTHUMT00000097131.2_2</td>\n",
       "      <td>ENST00000425108.1_2</td>\n",
       "      <td>1</td>\n",
       "      <td>ENSE00001538663.2_1</td>\n",
       "      <td>chr1:-:248721993-248722201</td>\n",
       "      <td>exon_143204</td>\n",
       "      <td>HGNC:45000</td>\n",
       "      <td>PGO:0000004,PGO:0000019</td>\n",
       "    </tr>\n",
       "    <tr>\n",
       "      <th>1</th>\n",
       "      <td>chr1</td>\n",
       "      <td>Liftoff</td>\n",
       "      <td>exon</td>\n",
       "      <td>2562018</td>\n",
       "      <td>2562141</td>\n",
       "      <td>.</td>\n",
       "      <td>+</td>\n",
       "      <td>.</td>\n",
       "      <td>ENSG00000227728.2_9</td>\n",
       "      <td>unprocessed_pseudogene</td>\n",
       "      <td>...</td>\n",
       "      <td>NA</td>\n",
       "      <td>basic,Ensembl_canonical</td>\n",
       "      <td>OTTHUMT00000097600.1_4</td>\n",
       "      <td>ENST00000398739.2_4</td>\n",
       "      <td>7</td>\n",
       "      <td>ENSE00001733801.1_1</td>\n",
       "      <td>chr1:-:246513779-246513901</td>\n",
       "      <td>exon_142344</td>\n",
       "      <td>NaN</td>\n",
       "      <td>PGO:0000005</td>\n",
       "    </tr>\n",
       "    <tr>\n",
       "      <th>2</th>\n",
       "      <td>chr1</td>\n",
       "      <td>Liftoff</td>\n",
       "      <td>exon</td>\n",
       "      <td>4519849</td>\n",
       "      <td>4520158</td>\n",
       "      <td>.</td>\n",
       "      <td>+</td>\n",
       "      <td>.</td>\n",
       "      <td>ENSG00000227735.1_5</td>\n",
       "      <td>processed_pseudogene</td>\n",
       "      <td>...</td>\n",
       "      <td>NA</td>\n",
       "      <td>pseudo_consens,basic,Ensembl_canonical</td>\n",
       "      <td>OTTHUMT00000097172.1_2</td>\n",
       "      <td>ENST00000415043.1_2</td>\n",
       "      <td>1</td>\n",
       "      <td>ENSE00001619889.1_1</td>\n",
       "      <td>chr1:-:244598391-244598687</td>\n",
       "      <td>exon_141746</td>\n",
       "      <td>HGNC:24416</td>\n",
       "      <td>PGO:0000004</td>\n",
       "    </tr>\n",
       "    <tr>\n",
       "      <th>3</th>\n",
       "      <td>chr1</td>\n",
       "      <td>Liftoff</td>\n",
       "      <td>exon</td>\n",
       "      <td>4720125</td>\n",
       "      <td>4720802</td>\n",
       "      <td>.</td>\n",
       "      <td>+</td>\n",
       "      <td>.</td>\n",
       "      <td>ENSG00000225401.2_5</td>\n",
       "      <td>processed_pseudogene</td>\n",
       "      <td>...</td>\n",
       "      <td>NA</td>\n",
       "      <td>pseudo_consens,basic,Ensembl_canonical</td>\n",
       "      <td>OTTHUMT00000096696.2_2</td>\n",
       "      <td>ENST00000435390.2_2</td>\n",
       "      <td>1</td>\n",
       "      <td>ENSE00001703145.2_1</td>\n",
       "      <td>chr1:-:244394976-244395660</td>\n",
       "      <td>exon_141598</td>\n",
       "      <td>HGNC:33317</td>\n",
       "      <td>PGO:0000004</td>\n",
       "    </tr>\n",
       "    <tr>\n",
       "      <th>4</th>\n",
       "      <td>chr1</td>\n",
       "      <td>Liftoff</td>\n",
       "      <td>exon</td>\n",
       "      <td>6211396</td>\n",
       "      <td>6212783</td>\n",
       "      <td>.</td>\n",
       "      <td>+</td>\n",
       "      <td>.</td>\n",
       "      <td>ENSG00000270818.1_7</td>\n",
       "      <td>processed_pseudogene</td>\n",
       "      <td>...</td>\n",
       "      <td>NA</td>\n",
       "      <td>pseudo_consens,basic,Ensembl_canonical</td>\n",
       "      <td>OTTHUMT00000468799.1_2</td>\n",
       "      <td>ENST00000603868.1_2</td>\n",
       "      <td>1</td>\n",
       "      <td>ENSE00003488617.1_1</td>\n",
       "      <td>chr1:-:242882066-242883475</td>\n",
       "      <td>exon_141058</td>\n",
       "      <td>NaN</td>\n",
       "      <td>PGO:0000004</td>\n",
       "    </tr>\n",
       "    <tr>\n",
       "      <th>...</th>\n",
       "      <td>...</td>\n",
       "      <td>...</td>\n",
       "      <td>...</td>\n",
       "      <td>...</td>\n",
       "      <td>...</td>\n",
       "      <td>...</td>\n",
       "      <td>...</td>\n",
       "      <td>...</td>\n",
       "      <td>...</td>\n",
       "      <td>...</td>\n",
       "      <td>...</td>\n",
       "      <td>...</td>\n",
       "      <td>...</td>\n",
       "      <td>...</td>\n",
       "      <td>...</td>\n",
       "      <td>...</td>\n",
       "      <td>...</td>\n",
       "      <td>...</td>\n",
       "      <td>...</td>\n",
       "      <td>...</td>\n",
       "      <td>...</td>\n",
       "    </tr>\n",
       "    <tr>\n",
       "      <th>5000</th>\n",
       "      <td>chrY</td>\n",
       "      <td>Liftoff</td>\n",
       "      <td>exon</td>\n",
       "      <td>8631048</td>\n",
       "      <td>8631190</td>\n",
       "      <td>.</td>\n",
       "      <td>-</td>\n",
       "      <td>.</td>\n",
       "      <td>ENSG00000236429.1_5</td>\n",
       "      <td>unprocessed_pseudogene</td>\n",
       "      <td>...</td>\n",
       "      <td>NA</td>\n",
       "      <td>basic,Ensembl_canonical</td>\n",
       "      <td>OTTHUMT00000100005.1_2</td>\n",
       "      <td>ENST00000432046.1_2</td>\n",
       "      <td>1</td>\n",
       "      <td>ENSE00001799927.1_1</td>\n",
       "      <td>chrY:-:18741843-18741986</td>\n",
       "      <td>exon_1552708</td>\n",
       "      <td>HGNC:38781</td>\n",
       "      <td>PGO:0000005</td>\n",
       "    </tr>\n",
       "    <tr>\n",
       "      <th>5001</th>\n",
       "      <td>chrY</td>\n",
       "      <td>Liftoff</td>\n",
       "      <td>exon</td>\n",
       "      <td>9772891</td>\n",
       "      <td>9773872</td>\n",
       "      <td>.</td>\n",
       "      <td>-</td>\n",
       "      <td>.</td>\n",
       "      <td>ENSG00000232634.1_5</td>\n",
       "      <td>processed_pseudogene</td>\n",
       "      <td>...</td>\n",
       "      <td>NA</td>\n",
       "      <td>pseudo_consens,basic,Ensembl_canonical</td>\n",
       "      <td>OTTHUMT00000088875.1_2</td>\n",
       "      <td>ENST00000436364.1_2</td>\n",
       "      <td>1</td>\n",
       "      <td>ENSE00001666493.1_1</td>\n",
       "      <td>chrY:-:21221106-21222089</td>\n",
       "      <td>exon_1553373</td>\n",
       "      <td>HGNC:37662</td>\n",
       "      <td>PGO:0000004</td>\n",
       "    </tr>\n",
       "    <tr>\n",
       "      <th>5002</th>\n",
       "      <td>chrY</td>\n",
       "      <td>Liftoff</td>\n",
       "      <td>exon</td>\n",
       "      <td>10121178</td>\n",
       "      <td>10121559</td>\n",
       "      <td>.</td>\n",
       "      <td>-</td>\n",
       "      <td>.</td>\n",
       "      <td>ENSG00000275280.1_7</td>\n",
       "      <td>processed_pseudogene</td>\n",
       "      <td>...</td>\n",
       "      <td>NA</td>\n",
       "      <td>basic,Ensembl_canonical</td>\n",
       "      <td>OTTHUMT00000475783.1_2</td>\n",
       "      <td>ENST00000619838.1_2</td>\n",
       "      <td>1</td>\n",
       "      <td>ENSE00003751494.1_1</td>\n",
       "      <td>chrY:+:7656968-7657352</td>\n",
       "      <td>exon_1550873</td>\n",
       "      <td>NaN</td>\n",
       "      <td>PGO:0000004</td>\n",
       "    </tr>\n",
       "    <tr>\n",
       "      <th>5003</th>\n",
       "      <td>chrY</td>\n",
       "      <td>Liftoff</td>\n",
       "      <td>exon</td>\n",
       "      <td>10360439</td>\n",
       "      <td>10360860</td>\n",
       "      <td>.</td>\n",
       "      <td>-</td>\n",
       "      <td>.</td>\n",
       "      <td>ENSG00000230764.1_5</td>\n",
       "      <td>unprocessed_pseudogene</td>\n",
       "      <td>...</td>\n",
       "      <td>NA</td>\n",
       "      <td>basic,Ensembl_canonical</td>\n",
       "      <td>OTTHUMT00000345307.1_2</td>\n",
       "      <td>ENST00000435196.1_2</td>\n",
       "      <td>1</td>\n",
       "      <td>ENSE00001709680.1_1</td>\n",
       "      <td>chr7:+:57185788-57186202</td>\n",
       "      <td>exon_596565</td>\n",
       "      <td>HGNC:42053</td>\n",
       "      <td>PGO:0000005</td>\n",
       "    </tr>\n",
       "    <tr>\n",
       "      <th>5004</th>\n",
       "      <td>chrY</td>\n",
       "      <td>Liftoff</td>\n",
       "      <td>exon</td>\n",
       "      <td>10970620</td>\n",
       "      <td>10971555</td>\n",
       "      <td>.</td>\n",
       "      <td>-</td>\n",
       "      <td>.</td>\n",
       "      <td>ENSG00000237023.1_5</td>\n",
       "      <td>unprocessed_pseudogene</td>\n",
       "      <td>...</td>\n",
       "      <td>NA</td>\n",
       "      <td>basic,Ensembl_canonical</td>\n",
       "      <td>OTTHUMT00000101916.1_2</td>\n",
       "      <td>ENST00000434481.1_2</td>\n",
       "      <td>5</td>\n",
       "      <td>ENSE00001739891.1_1</td>\n",
       "      <td>chrY:+:21672570-21673473</td>\n",
       "      <td>exon_1553535</td>\n",
       "      <td>HGNC:37739</td>\n",
       "      <td>PGO:0000005</td>\n",
       "    </tr>\n",
       "  </tbody>\n",
       "</table>\n",
       "<p>5005 rows × 28 columns</p>\n",
       "</div>"
      ],
      "text/plain": [
       "+--------------+------------+--------------+-----------+-----------+-------+\n",
       "| Chromosome   | Source     | Feature      | Start     | End       | +23   |\n",
       "| (category)   | (object)   | (category)   | (int32)   | (int32)   | ...   |\n",
       "|--------------+------------+--------------+-----------+-----------+-------|\n",
       "| chr1         | Liftoff    | exon         | 195749    | 195958    | ...   |\n",
       "| chr1         | Liftoff    | exon         | 2562018   | 2562141   | ...   |\n",
       "| chr1         | Liftoff    | exon         | 4519849   | 4520158   | ...   |\n",
       "| chr1         | Liftoff    | exon         | 4720125   | 4720802   | ...   |\n",
       "| ...          | ...        | ...          | ...       | ...       | ...   |\n",
       "| chrY         | Liftoff    | exon         | 9772891   | 9773872   | ...   |\n",
       "| chrY         | Liftoff    | exon         | 10121178  | 10121559  | ...   |\n",
       "| chrY         | Liftoff    | exon         | 10360439  | 10360860  | ...   |\n",
       "| chrY         | Liftoff    | exon         | 10970620  | 10971555  | ...   |\n",
       "+--------------+------------+--------------+-----------+-----------+-------+\n",
       "Stranded PyRanges object has 5,005 rows and 28 columns from 22 chromosomes.\n",
       "For printing, the PyRanges was sorted on Chromosome and Strand.\n",
       "23 hidden columns: Score, Strand, Frame, gene_id, gene_type, gene_name, level, ... (+ 16 more.)"
      ]
     },
     "execution_count": 44,
     "metadata": {},
     "output_type": "execute_result"
    }
   ],
   "source": [
    "pexon.drop_duplicate_positions()"
   ]
  },
  {
   "cell_type": "code",
   "execution_count": 45,
   "id": "9345c36e-ac8a-4759-9b05-a9e8e47e6314",
   "metadata": {},
   "outputs": [],
   "source": [
    "pexon.to_gtf('pgene/macaque/pexon_macaque.gtf')"
   ]
  },
  {
   "cell_type": "markdown",
   "id": "7412dcb8-fd4b-4c6b-a3ae-65b6a1621f53",
   "metadata": {},
   "source": [
    "## Macaque Protein-coding Genes\n",
    "19,131 protein-coding genes (1,257,296 exons) -> 18,416 protein-coding genes (1,161,637 exons) after removing exons overlapping with pseudogenes and lncRNAs -> 17,700 protein-coding genes (1,086,750 exons) after selecting exons within unique genomic regions -> 17,450 protein-coding genes (715,248 exons) after removing exons shorter than 100 bp."
   ]
  },
  {
   "cell_type": "code",
   "execution_count": 55,
   "id": "709ca3de-777c-49eb-b8a2-f32a791ee4f1",
   "metadata": {},
   "outputs": [
    {
     "name": "stdout",
     "output_type": "stream",
     "text": [
      "19131 1257296\n"
     ]
    }
   ],
   "source": [
    "print(len(set(protein_coding_exon.gene_id)), len(protein_coding_exon))"
   ]
  },
  {
   "cell_type": "code",
   "execution_count": 56,
   "id": "0b504fa7-ef46-47a9-8c0b-8eadef425598",
   "metadata": {},
   "outputs": [],
   "source": [
    "overlap_1 = protein_coding_exon.count_overlaps(pgene, strandedness = False, overlap_col = \"Count\")\n",
    "overlap_2 = protein_coding_exon.count_overlaps(lncRNA, strandedness = False, overlap_col = \"Count\")\n",
    "protein_coding_exon = protein_coding_exon[(overlap_1.Count == 0) & (overlap_2.Count == 0)]"
   ]
  },
  {
   "cell_type": "code",
   "execution_count": 57,
   "id": "f9236260-ffb1-499e-a21d-0952cd148a68",
   "metadata": {},
   "outputs": [
    {
     "name": "stdout",
     "output_type": "stream",
     "text": [
      "18416 1161637\n"
     ]
    }
   ],
   "source": [
    "print(len(set(protein_coding_exon.gene_id)), len(protein_coding_exon))"
   ]
  },
  {
   "cell_type": "code",
   "execution_count": 58,
   "id": "ce3bfba2-f882-4ded-9e62-7026cfe01df6",
   "metadata": {},
   "outputs": [],
   "source": [
    "protein_coding_exon.to_gtf('protein_coding/macaque/protein_coding_exon_filtered_by_overlappings.gtf')"
   ]
  },
  {
   "cell_type": "code",
   "execution_count": 59,
   "id": "a0114429-3f43-46a7-bbc7-1c432541912c",
   "metadata": {},
   "outputs": [],
   "source": [
    "! gtf2bed < protein_coding/macaque/protein_coding_exon_filtered_by_overlappings.gtf > protein_coding/macaque/protein_coding_exon_filtered_by_overlappings.bed"
   ]
  },
  {
   "cell_type": "code",
   "execution_count": 60,
   "id": "4a519235-8ef1-4831-9fc0-38e341647654",
   "metadata": {},
   "outputs": [],
   "source": [
    "! cat mappability/macaque/rheMac10.bedgraph | awk '{if($4>0.95) print $0}' | \\\n",
    "bedtools coverage -a protein_coding/macaque/protein_coding_exon_filtered_by_overlappings.bed -b - | \\\n",
    "awk -F '\\t' '{if($NF==1) print $0}' | awk -F '\\t' 'NF-=4' > protein_coding/macaque/protein_coding_exon_filtered_by_mappability.bed "
   ]
  },
  {
   "cell_type": "code",
   "execution_count": 61,
   "id": "b08df823-7bbe-4391-a647-535d3ef5cb4b",
   "metadata": {},
   "outputs": [],
   "source": [
    "! awk '{print $1\"\\t\"$7\"\\t\"$8\"\\t\"($2+1)\"\\t\"$3\"\\t\"$5\"\\t\"$6\"\\t\"$9\"\\t\"(substr($0, index($0,$10)))}' protein_coding/macaque/protein_coding_exon_filtered_by_mappability.bed  > protein_coding/macaque/protein_coding_exon_filtered_by_mappability.gtf\n",
    "! sed -i '' 's/zero_length_insertion.*//g' protein_coding/macaque/protein_coding_exon_filtered_by_mappability.gtf"
   ]
  },
  {
   "cell_type": "code",
   "execution_count": 62,
   "id": "0f6213c8-e73c-4e4a-ad94-3cbed5e88cc3",
   "metadata": {},
   "outputs": [
    {
     "name": "stdout",
     "output_type": "stream",
     "text": [
      "17700 1086750\n"
     ]
    }
   ],
   "source": [
    "protein_coding_exon = pr.read_gtf('protein_coding/macaque/protein_coding_exon_filtered_by_mappability.gtf')\n",
    "print(len(set(protein_coding_exon.gene_id)), len(protein_coding_exon))"
   ]
  },
  {
   "cell_type": "code",
   "execution_count": 63,
   "id": "4a3e628a-c4f2-4ed5-a6e9-9cf25d0198f3",
   "metadata": {},
   "outputs": [
    {
     "name": "stdout",
     "output_type": "stream",
     "text": [
      "17450 715248\n"
     ]
    }
   ],
   "source": [
    "protein_coding_exon = protein_coding_exon[protein_coding_exon.lengths() >= 100]\n",
    "print(len(set(protein_coding_exon.gene_id)), len(protein_coding_exon))"
   ]
  },
  {
   "cell_type": "code",
   "execution_count": 64,
   "id": "02edb0ae-b4f6-4bbf-8aec-abf9c742555e",
   "metadata": {},
   "outputs": [],
   "source": [
    "protein_coding_exon.to_gtf('protein_coding/macaque/protein_coding_macaque.gtf')"
   ]
  },
  {
   "cell_type": "code",
   "execution_count": 61,
   "id": "00dbd09d-a1c2-4832-ad89-fec7aeaa2439",
   "metadata": {},
   "outputs": [],
   "source": [
    "pexon_macaque = pr.read_gtf('pgene/macaque/pexon_macaque.gtf')\n",
    "pexon_human = pr.read_gtf('pgene/human/pexon_human.gtf')"
   ]
  },
  {
   "cell_type": "code",
   "execution_count": 68,
   "id": "8f1c5fb4-deec-4bb9-9bf0-c81d19f3c50b",
   "metadata": {},
   "outputs": [
    {
     "data": {
      "text/plain": [
       "4067"
      ]
     },
     "execution_count": 68,
     "metadata": {},
     "output_type": "execute_result"
    }
   ],
   "source": [
    "len(set(pexon_human.gene_id))"
   ]
  },
  {
   "cell_type": "code",
   "execution_count": 66,
   "id": "a80d48d3-23c4-4fb1-a71e-53cb28e80c1f",
   "metadata": {},
   "outputs": [
    {
     "data": {
      "text/plain": [
       "3174"
      ]
     },
     "execution_count": 66,
     "metadata": {},
     "output_type": "execute_result"
    }
   ],
   "source": [
    "len(set(pexon_macaque.gene_id))"
   ]
  },
  {
   "cell_type": "code",
   "execution_count": 71,
   "id": "dd8682f5-434e-45c1-b586-3ed5485b9063",
   "metadata": {},
   "outputs": [
    {
     "data": {
      "text/plain": [
       "2488"
      ]
     },
     "execution_count": 71,
     "metadata": {},
     "output_type": "execute_result"
    }
   ],
   "source": [
    "len(set(pexon_human.gene_id).intersection(set(pexon_macaque.gene_id)))"
   ]
  }
 ],
 "metadata": {
  "kernelspec": {
   "display_name": "Python 3 (ipykernel)",
   "language": "python",
   "name": "python3"
  },
  "language_info": {
   "codemirror_mode": {
    "name": "ipython",
    "version": 3
   },
   "file_extension": ".py",
   "mimetype": "text/x-python",
   "name": "python",
   "nbconvert_exporter": "python",
   "pygments_lexer": "ipython3",
   "version": "3.9.15"
  }
 },
 "nbformat": 4,
 "nbformat_minor": 5
}
